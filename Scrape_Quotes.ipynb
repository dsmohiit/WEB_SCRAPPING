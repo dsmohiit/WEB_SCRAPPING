{
 "cells": [
  {
   "cell_type": "code",
   "execution_count": 161,
   "id": "7179586a-60eb-4f64-b660-eecd211fad93",
   "metadata": {},
   "outputs": [],
   "source": [
    "import pandas as pd\n",
    "import requests\n",
    "from tqdm import tqdm\n",
    "from bs4 import BeautifulSoup"
   ]
  },
  {
   "cell_type": "code",
   "execution_count": 162,
   "id": "946392c1-936e-4e28-9fee-b385e65011dd",
   "metadata": {},
   "outputs": [],
   "source": [
    "link = \"https://quotes.toscrape.com\""
   ]
  },
  {
   "cell_type": "code",
   "execution_count": 163,
   "id": "23dba01d-89a8-43be-9620-92c529e60749",
   "metadata": {},
   "outputs": [],
   "source": [
    "response = requests.get(link)"
   ]
  },
  {
   "cell_type": "code",
   "execution_count": 164,
   "id": "15ac070b-c946-46f8-9e42-6afebf6d45bd",
   "metadata": {},
   "outputs": [],
   "source": [
    "soup = BeautifulSoup(response.text, \"lxml\")"
   ]
  },
  {
   "cell_type": "code",
   "execution_count": 165,
   "id": "17b1557b-38f1-446d-8e81-a976d3226bda",
   "metadata": {},
   "outputs": [
    {
     "data": {
      "text/plain": [
       "'<!DOCTYPE html>\\n<html lang=\"en\">\\n <head>\\n  <meta charset=\"utf-8\"/>\\n  <title>\\n   Quotes to Scrape\\n  </title>\\n  <link href=\"/static/bootstrap.min.css\" rel=\"stylesheet\"/>\\n  <link href=\"/static/main.css\" rel=\"stylesheet\"/>\\n </head>\\n <body>\\n  <div class=\"container\">\\n   <div class=\"row header-box\">\\n    <div class=\"col-md-8\">\\n     <h1>\\n      <a href=\"/\" style=\"text-decoration: none\">\\n       Quotes to Scrape\\n      </a>\\n     </h1>\\n    </div>\\n    <div class=\"col-md-4\">\\n     <p>\\n      <a href=\"/login\">\\n       Login\\n      </a>\\n     </p>\\n    </div>\\n   </div>\\n   <div class=\"row\">\\n    <div class=\"col-md-8\">\\n     <div class=\"quote\" itemscope=\"\" itemtype=\"http://schema.org/CreativeWork\">\\n      <span class=\"text\" itemprop=\"text\">\\n       “The world as we have created it is a process of our thinking. It cannot be changed without changing our thinking.”\\n      </span>\\n      <span>\\n       by\\n       <small class=\"author\" itemprop=\"author\">\\n        Albert Einstein\\n       </small>\\n       <a href=\"/author/Albert-Einstein\">\\n        (about)\\n       </a>\\n      </span>\\n      <div class=\"tags\">\\n       Tags:\\n       <meta class=\"keywords\" content=\"change,deep-thoughts,thinking,world\" itemprop=\"keywords\"/>\\n       <a class=\"tag\" href=\"/tag/change/page/1/\">\\n        change\\n       </a>\\n       <a class=\"tag\" href=\"/tag/deep-thoughts/page/1/\">\\n        deep-thoughts\\n       </a>\\n       <a class=\"tag\" href=\"/tag/thinking/page/1/\">\\n        thinking\\n       </a>\\n       <a class=\"tag\" href=\"/tag/world/page/1/\">\\n        world\\n       </a>\\n      </div>\\n     </div>\\n     <div class=\"quote\" itemscope=\"\" itemtype=\"http://schema.org/CreativeWork\">\\n      <span class=\"text\" itemprop=\"text\">\\n       “It is our choices, Harry, that show what we truly are, far more than our abilities.”\\n      </span>\\n      <span>\\n       by\\n       <small class=\"author\" itemprop=\"author\">\\n        J.K. Rowling\\n       </small>\\n       <a href=\"/author/J-K-Rowling\">\\n        (about)\\n       </a>\\n      </span>\\n      <div class=\"tags\">\\n       Tags:\\n       <meta class=\"keywords\" content=\"abilities,choices\" itemprop=\"keywords\"/>\\n       <a class=\"tag\" href=\"/tag/abilities/page/1/\">\\n        abilities\\n       </a>\\n       <a class=\"tag\" href=\"/tag/choices/page/1/\">\\n        choices\\n       </a>\\n      </div>\\n     </div>\\n     <div class=\"quote\" itemscope=\"\" itemtype=\"http://schema.org/CreativeWork\">\\n      <span class=\"text\" itemprop=\"text\">\\n       “There are only two ways to live your life. One is as though nothing is a miracle. The other is as though everything is a miracle.”\\n      </span>\\n      <span>\\n       by\\n       <small class=\"author\" itemprop=\"author\">\\n        Albert Einstein\\n       </small>\\n       <a href=\"/author/Albert-Einstein\">\\n        (about)\\n       </a>\\n      </span>\\n      <div class=\"tags\">\\n       Tags:\\n       <meta class=\"keywords\" content=\"inspirational,life,live,miracle,miracles\" itemprop=\"keywords\"/>\\n       <a class=\"tag\" href=\"/tag/inspirational/page/1/\">\\n        inspirational\\n       </a>\\n       <a class=\"tag\" href=\"/tag/life/page/1/\">\\n        life\\n       </a>\\n       <a class=\"tag\" href=\"/tag/live/page/1/\">\\n        live\\n       </a>\\n       <a class=\"tag\" href=\"/tag/miracle/page/1/\">\\n        miracle\\n       </a>\\n       <a class=\"tag\" href=\"/tag/miracles/page/1/\">\\n        miracles\\n       </a>\\n      </div>\\n     </div>\\n     <div class=\"quote\" itemscope=\"\" itemtype=\"http://schema.org/CreativeWork\">\\n      <span class=\"text\" itemprop=\"text\">\\n       “The person, be it gentleman or lady, who has not pleasure in a good novel, must be intolerably stupid.”\\n      </span>\\n      <span>\\n       by\\n       <small class=\"author\" itemprop=\"author\">\\n        Jane Austen\\n       </small>\\n       <a href=\"/author/Jane-Austen\">\\n        (about)\\n       </a>\\n      </span>\\n      <div class=\"tags\">\\n       Tags:\\n       <meta class=\"keywords\" content=\"aliteracy,books,classic,humor\" itemprop=\"keywords\"/>\\n       <a class=\"tag\" href=\"/tag/aliteracy/page/1/\">\\n        aliteracy\\n       </a>\\n       <a class=\"tag\" href=\"/tag/books/page/1/\">\\n        books\\n       </a>\\n       <a class=\"tag\" href=\"/tag/classic/page/1/\">\\n        classic\\n       </a>\\n       <a class=\"tag\" href=\"/tag/humor/page/1/\">\\n        humor\\n       </a>\\n      </div>\\n     </div>\\n     <div class=\"quote\" itemscope=\"\" itemtype=\"http://schema.org/CreativeWork\">\\n      <span class=\"text\" itemprop=\"text\">\\n       “Imperfection is beauty, madness is genius and it\\'s better to be absolutely ridiculous than absolutely boring.”\\n      </span>\\n      <span>\\n       by\\n       <small class=\"author\" itemprop=\"author\">\\n        Marilyn Monroe\\n       </small>\\n       <a href=\"/author/Marilyn-Monroe\">\\n        (about)\\n       </a>\\n      </span>\\n      <div class=\"tags\">\\n       Tags:\\n       <meta class=\"keywords\" content=\"be-yourself,inspirational\" itemprop=\"keywords\"/>\\n       <a class=\"tag\" href=\"/tag/be-yourself/page/1/\">\\n        be-yourself\\n       </a>\\n       <a class=\"tag\" href=\"/tag/inspirational/page/1/\">\\n        inspirational\\n       </a>\\n      </div>\\n     </div>\\n     <div class=\"quote\" itemscope=\"\" itemtype=\"http://schema.org/CreativeWork\">\\n      <span class=\"text\" itemprop=\"text\">\\n       “Try not to become a man of success. Rather become a man of value.”\\n      </span>\\n      <span>\\n       by\\n       <small class=\"author\" itemprop=\"author\">\\n        Albert Einstein\\n       </small>\\n       <a href=\"/author/Albert-Einstein\">\\n        (about)\\n       </a>\\n      </span>\\n      <div class=\"tags\">\\n       Tags:\\n       <meta class=\"keywords\" content=\"adulthood,success,value\" itemprop=\"keywords\"/>\\n       <a class=\"tag\" href=\"/tag/adulthood/page/1/\">\\n        adulthood\\n       </a>\\n       <a class=\"tag\" href=\"/tag/success/page/1/\">\\n        success\\n       </a>\\n       <a class=\"tag\" href=\"/tag/value/page/1/\">\\n        value\\n       </a>\\n      </div>\\n     </div>\\n     <div class=\"quote\" itemscope=\"\" itemtype=\"http://schema.org/CreativeWork\">\\n      <span class=\"text\" itemprop=\"text\">\\n       “It is better to be hated for what you are than to be loved for what you are not.”\\n      </span>\\n      <span>\\n       by\\n       <small class=\"author\" itemprop=\"author\">\\n        André Gide\\n       </small>\\n       <a href=\"/author/Andre-Gide\">\\n        (about)\\n       </a>\\n      </span>\\n      <div class=\"tags\">\\n       Tags:\\n       <meta class=\"keywords\" content=\"life,love\" itemprop=\"keywords\"/>\\n       <a class=\"tag\" href=\"/tag/life/page/1/\">\\n        life\\n       </a>\\n       <a class=\"tag\" href=\"/tag/love/page/1/\">\\n        love\\n       </a>\\n      </div>\\n     </div>\\n     <div class=\"quote\" itemscope=\"\" itemtype=\"http://schema.org/CreativeWork\">\\n      <span class=\"text\" itemprop=\"text\">\\n       “I have not failed. I\\'ve just found 10,000 ways that won\\'t work.”\\n      </span>\\n      <span>\\n       by\\n       <small class=\"author\" itemprop=\"author\">\\n        Thomas A. Edison\\n       </small>\\n       <a href=\"/author/Thomas-A-Edison\">\\n        (about)\\n       </a>\\n      </span>\\n      <div class=\"tags\">\\n       Tags:\\n       <meta class=\"keywords\" content=\"edison,failure,inspirational,paraphrased\" itemprop=\"keywords\"/>\\n       <a class=\"tag\" href=\"/tag/edison/page/1/\">\\n        edison\\n       </a>\\n       <a class=\"tag\" href=\"/tag/failure/page/1/\">\\n        failure\\n       </a>\\n       <a class=\"tag\" href=\"/tag/inspirational/page/1/\">\\n        inspirational\\n       </a>\\n       <a class=\"tag\" href=\"/tag/paraphrased/page/1/\">\\n        paraphrased\\n       </a>\\n      </div>\\n     </div>\\n     <div class=\"quote\" itemscope=\"\" itemtype=\"http://schema.org/CreativeWork\">\\n      <span class=\"text\" itemprop=\"text\">\\n       “A woman is like a tea bag; you never know how strong it is until it\\'s in hot water.”\\n      </span>\\n      <span>\\n       by\\n       <small class=\"author\" itemprop=\"author\">\\n        Eleanor Roosevelt\\n       </small>\\n       <a href=\"/author/Eleanor-Roosevelt\">\\n        (about)\\n       </a>\\n      </span>\\n      <div class=\"tags\">\\n       Tags:\\n       <meta class=\"keywords\" content=\"misattributed-eleanor-roosevelt\" itemprop=\"keywords\"/>\\n       <a class=\"tag\" href=\"/tag/misattributed-eleanor-roosevelt/page/1/\">\\n        misattributed-eleanor-roosevelt\\n       </a>\\n      </div>\\n     </div>\\n     <div class=\"quote\" itemscope=\"\" itemtype=\"http://schema.org/CreativeWork\">\\n      <span class=\"text\" itemprop=\"text\">\\n       “A day without sunshine is like, you know, night.”\\n      </span>\\n      <span>\\n       by\\n       <small class=\"author\" itemprop=\"author\">\\n        Steve Martin\\n       </small>\\n       <a href=\"/author/Steve-Martin\">\\n        (about)\\n       </a>\\n      </span>\\n      <div class=\"tags\">\\n       Tags:\\n       <meta class=\"keywords\" content=\"humor,obvious,simile\" itemprop=\"keywords\"/>\\n       <a class=\"tag\" href=\"/tag/humor/page/1/\">\\n        humor\\n       </a>\\n       <a class=\"tag\" href=\"/tag/obvious/page/1/\">\\n        obvious\\n       </a>\\n       <a class=\"tag\" href=\"/tag/simile/page/1/\">\\n        simile\\n       </a>\\n      </div>\\n     </div>\\n     <nav>\\n      <ul class=\"pager\">\\n       <li class=\"next\">\\n        <a href=\"/page/2/\">\\n         Next\\n         <span aria-hidden=\"true\">\\n          →\\n         </span>\\n        </a>\\n       </li>\\n      </ul>\\n     </nav>\\n    </div>\\n    <div class=\"col-md-4 tags-box\">\\n     <h2>\\n      Top Ten tags\\n     </h2>\\n     <span class=\"tag-item\">\\n      <a class=\"tag\" href=\"/tag/love/\" style=\"font-size: 28px\">\\n       love\\n      </a>\\n     </span>\\n     <span class=\"tag-item\">\\n      <a class=\"tag\" href=\"/tag/inspirational/\" style=\"font-size: 26px\">\\n       inspirational\\n      </a>\\n     </span>\\n     <span class=\"tag-item\">\\n      <a class=\"tag\" href=\"/tag/life/\" style=\"font-size: 26px\">\\n       life\\n      </a>\\n     </span>\\n     <span class=\"tag-item\">\\n      <a class=\"tag\" href=\"/tag/humor/\" style=\"font-size: 24px\">\\n       humor\\n      </a>\\n     </span>\\n     <span class=\"tag-item\">\\n      <a class=\"tag\" href=\"/tag/books/\" style=\"font-size: 22px\">\\n       books\\n      </a>\\n     </span>\\n     <span class=\"tag-item\">\\n      <a class=\"tag\" href=\"/tag/reading/\" style=\"font-size: 14px\">\\n       reading\\n      </a>\\n     </span>\\n     <span class=\"tag-item\">\\n      <a class=\"tag\" href=\"/tag/friendship/\" style=\"font-size: 10px\">\\n       friendship\\n      </a>\\n     </span>\\n     <span class=\"tag-item\">\\n      <a class=\"tag\" href=\"/tag/friends/\" style=\"font-size: 8px\">\\n       friends\\n      </a>\\n     </span>\\n     <span class=\"tag-item\">\\n      <a class=\"tag\" href=\"/tag/truth/\" style=\"font-size: 8px\">\\n       truth\\n      </a>\\n     </span>\\n     <span class=\"tag-item\">\\n      <a class=\"tag\" href=\"/tag/simile/\" style=\"font-size: 6px\">\\n       simile\\n      </a>\\n     </span>\\n    </div>\\n   </div>\\n  </div>\\n  <footer class=\"footer\">\\n   <div class=\"container\">\\n    <p class=\"text-muted\">\\n     Quotes by:\\n     <a href=\"https://www.goodreads.com/quotes\">\\n      GoodReads.com\\n     </a>\\n    </p>\\n    <p class=\"copyright\">\\n     Made with\\n     <span class=\"zyte\">\\n      ❤\\n     </span>\\n     by\\n     <a class=\"zyte\" href=\"https://www.zyte.com\">\\n      Zyte\\n     </a>\\n    </p>\\n   </div>\\n  </footer>\\n </body>\\n</html>\\n'"
      ]
     },
     "execution_count": 165,
     "metadata": {},
     "output_type": "execute_result"
    }
   ],
   "source": [
    "soup.prettify()"
   ]
  },
  {
   "cell_type": "code",
   "execution_count": 166,
   "id": "0d112c01-641e-481c-a9a2-857c0bdb7a4b",
   "metadata": {},
   "outputs": [
    {
     "data": {
      "text/plain": [
       "<div class=\"quote\" itemscope=\"\" itemtype=\"http://schema.org/CreativeWork\">\n",
       "<span class=\"text\" itemprop=\"text\">“The world as we have created it is a process of our thinking. It cannot be changed without changing our thinking.”</span>\n",
       "<span>by <small class=\"author\" itemprop=\"author\">Albert Einstein</small>\n",
       "<a href=\"/author/Albert-Einstein\">(about)</a>\n",
       "</span>\n",
       "<div class=\"tags\">\n",
       "            Tags:\n",
       "            <meta class=\"keywords\" content=\"change,deep-thoughts,thinking,world\" itemprop=\"keywords\"/>\n",
       "<a class=\"tag\" href=\"/tag/change/page/1/\">change</a>\n",
       "<a class=\"tag\" href=\"/tag/deep-thoughts/page/1/\">deep-thoughts</a>\n",
       "<a class=\"tag\" href=\"/tag/thinking/page/1/\">thinking</a>\n",
       "<a class=\"tag\" href=\"/tag/world/page/1/\">world</a>\n",
       "</div>\n",
       "</div>"
      ]
     },
     "execution_count": 166,
     "metadata": {},
     "output_type": "execute_result"
    }
   ],
   "source": [
    "soup.find_all(\"div\", class_= \"quote\")[0]"
   ]
  },
  {
   "cell_type": "code",
   "execution_count": 167,
   "id": "dd405ab8-8b69-4891-b780-ce5ff2cb44ea",
   "metadata": {},
   "outputs": [],
   "source": [
    "data = []\n",
    "\n",
    "for sp in soup.find_all(\"div\", class_= \"quote\"):\n",
    "    quote  = sp.find(\"span\", class_= \"text\").text[1:-1]\n",
    "    author = sp.find(\"small\", class_= \"author\").text\n",
    "    about  = sp.find(\"a\").get(\"href\")\n",
    "\n",
    "    tags = []\n",
    "    for tag in sp.find_all('a',class_ = 'tag'):\n",
    "        tags.append(tag.text)\n",
    "    tags      = ', '.join(tags)\n",
    "\n",
    "    data.append([quote, author, about, tags])\n",
    "    "
   ]
  },
  {
   "cell_type": "code",
   "execution_count": 168,
   "id": "7b9265a4-f200-494c-8d1f-ce3bab601388",
   "metadata": {},
   "outputs": [
    {
     "data": {
      "text/plain": [
       "[['The world as we have created it is a process of our thinking. It cannot be changed without changing our thinking.',\n",
       "  'Albert Einstein',\n",
       "  '/author/Albert-Einstein',\n",
       "  'change, deep-thoughts, thinking, world'],\n",
       " ['It is our choices, Harry, that show what we truly are, far more than our abilities.',\n",
       "  'J.K. Rowling',\n",
       "  '/author/J-K-Rowling',\n",
       "  'abilities, choices'],\n",
       " ['There are only two ways to live your life. One is as though nothing is a miracle. The other is as though everything is a miracle.',\n",
       "  'Albert Einstein',\n",
       "  '/author/Albert-Einstein',\n",
       "  'inspirational, life, live, miracle, miracles'],\n",
       " ['The person, be it gentleman or lady, who has not pleasure in a good novel, must be intolerably stupid.',\n",
       "  'Jane Austen',\n",
       "  '/author/Jane-Austen',\n",
       "  'aliteracy, books, classic, humor'],\n",
       " [\"Imperfection is beauty, madness is genius and it's better to be absolutely ridiculous than absolutely boring.\",\n",
       "  'Marilyn Monroe',\n",
       "  '/author/Marilyn-Monroe',\n",
       "  'be-yourself, inspirational'],\n",
       " ['Try not to become a man of success. Rather become a man of value.',\n",
       "  'Albert Einstein',\n",
       "  '/author/Albert-Einstein',\n",
       "  'adulthood, success, value'],\n",
       " ['It is better to be hated for what you are than to be loved for what you are not.',\n",
       "  'André Gide',\n",
       "  '/author/Andre-Gide',\n",
       "  'life, love'],\n",
       " [\"I have not failed. I've just found 10,000 ways that won't work.\",\n",
       "  'Thomas A. Edison',\n",
       "  '/author/Thomas-A-Edison',\n",
       "  'edison, failure, inspirational, paraphrased'],\n",
       " [\"A woman is like a tea bag; you never know how strong it is until it's in hot water.\",\n",
       "  'Eleanor Roosevelt',\n",
       "  '/author/Eleanor-Roosevelt',\n",
       "  'misattributed-eleanor-roosevelt'],\n",
       " ['A day without sunshine is like, you know, night.',\n",
       "  'Steve Martin',\n",
       "  '/author/Steve-Martin',\n",
       "  'humor, obvious, simile']]"
      ]
     },
     "execution_count": 168,
     "metadata": {},
     "output_type": "execute_result"
    }
   ],
   "source": [
    "data"
   ]
  },
  {
   "cell_type": "code",
   "execution_count": 169,
   "id": "b6efaae6-94f0-4562-b163-875723d5c308",
   "metadata": {},
   "outputs": [
    {
     "data": {
      "text/plain": [
       "'A day without sunshine is like, you know, night.'"
      ]
     },
     "execution_count": 169,
     "metadata": {},
     "output_type": "execute_result"
    }
   ],
   "source": [
    "quote"
   ]
  },
  {
   "cell_type": "code",
   "execution_count": 170,
   "id": "b81e7a2c-dbfd-4acb-93d6-a61422ad6824",
   "metadata": {},
   "outputs": [
    {
     "data": {
      "text/plain": [
       "'Steve Martin'"
      ]
     },
     "execution_count": 170,
     "metadata": {},
     "output_type": "execute_result"
    }
   ],
   "source": [
    "author"
   ]
  },
  {
   "cell_type": "code",
   "execution_count": 171,
   "id": "8528fa6e-348b-487e-9e36-0e761aa929d6",
   "metadata": {},
   "outputs": [
    {
     "data": {
      "text/plain": [
       "'/author/Steve-Martin'"
      ]
     },
     "execution_count": 171,
     "metadata": {},
     "output_type": "execute_result"
    }
   ],
   "source": [
    "about"
   ]
  },
  {
   "cell_type": "code",
   "execution_count": 172,
   "id": "e4a58732-2e7f-48bd-9d34-1da6a68a29f5",
   "metadata": {},
   "outputs": [],
   "source": [
    "df = pd.DataFrame(data, columns= [\"Quotes\", \"Author\", \"About(Prefix: https://quotes.toscrape.com)\", \"Tags\"])"
   ]
  },
  {
   "cell_type": "code",
   "execution_count": 173,
   "id": "5f2608fb-77db-4431-81e5-45485f945c53",
   "metadata": {},
   "outputs": [
    {
     "data": {
      "text/html": [
       "<div>\n",
       "<style scoped>\n",
       "    .dataframe tbody tr th:only-of-type {\n",
       "        vertical-align: middle;\n",
       "    }\n",
       "\n",
       "    .dataframe tbody tr th {\n",
       "        vertical-align: top;\n",
       "    }\n",
       "\n",
       "    .dataframe thead th {\n",
       "        text-align: right;\n",
       "    }\n",
       "</style>\n",
       "<table border=\"1\" class=\"dataframe\">\n",
       "  <thead>\n",
       "    <tr style=\"text-align: right;\">\n",
       "      <th></th>\n",
       "      <th>Quotes</th>\n",
       "      <th>Author</th>\n",
       "      <th>About(Prefix: https://quotes.toscrape.com)</th>\n",
       "      <th>Tags</th>\n",
       "    </tr>\n",
       "  </thead>\n",
       "  <tbody>\n",
       "    <tr>\n",
       "      <th>0</th>\n",
       "      <td>The world as we have created it is a process o...</td>\n",
       "      <td>Albert Einstein</td>\n",
       "      <td>/author/Albert-Einstein</td>\n",
       "      <td>change, deep-thoughts, thinking, world</td>\n",
       "    </tr>\n",
       "    <tr>\n",
       "      <th>1</th>\n",
       "      <td>It is our choices, Harry, that show what we tr...</td>\n",
       "      <td>J.K. Rowling</td>\n",
       "      <td>/author/J-K-Rowling</td>\n",
       "      <td>abilities, choices</td>\n",
       "    </tr>\n",
       "    <tr>\n",
       "      <th>2</th>\n",
       "      <td>There are only two ways to live your life. One...</td>\n",
       "      <td>Albert Einstein</td>\n",
       "      <td>/author/Albert-Einstein</td>\n",
       "      <td>inspirational, life, live, miracle, miracles</td>\n",
       "    </tr>\n",
       "    <tr>\n",
       "      <th>3</th>\n",
       "      <td>The person, be it gentleman or lady, who has n...</td>\n",
       "      <td>Jane Austen</td>\n",
       "      <td>/author/Jane-Austen</td>\n",
       "      <td>aliteracy, books, classic, humor</td>\n",
       "    </tr>\n",
       "    <tr>\n",
       "      <th>4</th>\n",
       "      <td>Imperfection is beauty, madness is genius and ...</td>\n",
       "      <td>Marilyn Monroe</td>\n",
       "      <td>/author/Marilyn-Monroe</td>\n",
       "      <td>be-yourself, inspirational</td>\n",
       "    </tr>\n",
       "    <tr>\n",
       "      <th>5</th>\n",
       "      <td>Try not to become a man of success. Rather bec...</td>\n",
       "      <td>Albert Einstein</td>\n",
       "      <td>/author/Albert-Einstein</td>\n",
       "      <td>adulthood, success, value</td>\n",
       "    </tr>\n",
       "    <tr>\n",
       "      <th>6</th>\n",
       "      <td>It is better to be hated for what you are than...</td>\n",
       "      <td>André Gide</td>\n",
       "      <td>/author/Andre-Gide</td>\n",
       "      <td>life, love</td>\n",
       "    </tr>\n",
       "    <tr>\n",
       "      <th>7</th>\n",
       "      <td>I have not failed. I've just found 10,000 ways...</td>\n",
       "      <td>Thomas A. Edison</td>\n",
       "      <td>/author/Thomas-A-Edison</td>\n",
       "      <td>edison, failure, inspirational, paraphrased</td>\n",
       "    </tr>\n",
       "    <tr>\n",
       "      <th>8</th>\n",
       "      <td>A woman is like a tea bag; you never know how ...</td>\n",
       "      <td>Eleanor Roosevelt</td>\n",
       "      <td>/author/Eleanor-Roosevelt</td>\n",
       "      <td>misattributed-eleanor-roosevelt</td>\n",
       "    </tr>\n",
       "    <tr>\n",
       "      <th>9</th>\n",
       "      <td>A day without sunshine is like, you know, night.</td>\n",
       "      <td>Steve Martin</td>\n",
       "      <td>/author/Steve-Martin</td>\n",
       "      <td>humor, obvious, simile</td>\n",
       "    </tr>\n",
       "  </tbody>\n",
       "</table>\n",
       "</div>"
      ],
      "text/plain": [
       "                                              Quotes             Author  \\\n",
       "0  The world as we have created it is a process o...    Albert Einstein   \n",
       "1  It is our choices, Harry, that show what we tr...       J.K. Rowling   \n",
       "2  There are only two ways to live your life. One...    Albert Einstein   \n",
       "3  The person, be it gentleman or lady, who has n...        Jane Austen   \n",
       "4  Imperfection is beauty, madness is genius and ...     Marilyn Monroe   \n",
       "5  Try not to become a man of success. Rather bec...    Albert Einstein   \n",
       "6  It is better to be hated for what you are than...         André Gide   \n",
       "7  I have not failed. I've just found 10,000 ways...   Thomas A. Edison   \n",
       "8  A woman is like a tea bag; you never know how ...  Eleanor Roosevelt   \n",
       "9   A day without sunshine is like, you know, night.       Steve Martin   \n",
       "\n",
       "  About(Prefix: https://quotes.toscrape.com)  \\\n",
       "0                    /author/Albert-Einstein   \n",
       "1                        /author/J-K-Rowling   \n",
       "2                    /author/Albert-Einstein   \n",
       "3                        /author/Jane-Austen   \n",
       "4                     /author/Marilyn-Monroe   \n",
       "5                    /author/Albert-Einstein   \n",
       "6                         /author/Andre-Gide   \n",
       "7                    /author/Thomas-A-Edison   \n",
       "8                  /author/Eleanor-Roosevelt   \n",
       "9                       /author/Steve-Martin   \n",
       "\n",
       "                                           Tags  \n",
       "0        change, deep-thoughts, thinking, world  \n",
       "1                            abilities, choices  \n",
       "2  inspirational, life, live, miracle, miracles  \n",
       "3              aliteracy, books, classic, humor  \n",
       "4                    be-yourself, inspirational  \n",
       "5                     adulthood, success, value  \n",
       "6                                    life, love  \n",
       "7   edison, failure, inspirational, paraphrased  \n",
       "8               misattributed-eleanor-roosevelt  \n",
       "9                        humor, obvious, simile  "
      ]
     },
     "execution_count": 173,
     "metadata": {},
     "output_type": "execute_result"
    }
   ],
   "source": [
    "df"
   ]
  },
  {
   "cell_type": "code",
   "execution_count": 178,
   "id": "402bcf5a-6e75-44eb-a9ae-49ff5b58f5a9",
   "metadata": {},
   "outputs": [
    {
     "name": "stderr",
     "output_type": "stream",
     "text": [
      "100%|██████████| 10/10 [01:55<00:00, 11.56s/it]\n"
     ]
    }
   ],
   "source": [
    "web_data = []\n",
    "for page in tqdm(range(1, 11)):\n",
    "    link = \"https://quotes.toscrape.com/page/\" + str(page)\n",
    "    res = requests.get(link)\n",
    "    soup = BeautifulSoup(res.text, \"lxml\")\n",
    "\n",
    "    \n",
    "    for sp in soup.find_all(\"div\", class_= \"quote\"):\n",
    "        quote  = sp.find(\"span\", class_= \"text\").text[1:-1]\n",
    "        author = sp.find(\"small\", class_= \"author\").text\n",
    "        about  = sp.find(\"a\").get(\"href\")\n",
    "    \n",
    "        tags = []\n",
    "        for tag in sp.find_all('a',class_ = 'tag'):\n",
    "            tags.append(tag.text)\n",
    "        tags      = ', '.join(tags)\n",
    "    \n",
    "        web_data.append([quote, author, about, tags])\n",
    "      "
   ]
  },
  {
   "cell_type": "code",
   "execution_count": 179,
   "id": "eb522104-3dcd-4d85-8139-c03ba9bd4e2f",
   "metadata": {},
   "outputs": [
    {
     "data": {
      "text/plain": [
       "100"
      ]
     },
     "execution_count": 179,
     "metadata": {},
     "output_type": "execute_result"
    }
   ],
   "source": [
    "len(web_data)"
   ]
  },
  {
   "cell_type": "code",
   "execution_count": 180,
   "id": "f3e88764-5f9c-4e4f-a0a3-8598c5fdaa5b",
   "metadata": {},
   "outputs": [],
   "source": [
    "df1 = pd.DataFrame(web_data, columns= [\"Quotes\", \"Author\", \"About(Prefix: https://quotes.toscrape.com)\", \"Tags\"])"
   ]
  },
  {
   "cell_type": "code",
   "execution_count": 181,
   "id": "49fa8966-30e0-4086-83f2-740289bc8725",
   "metadata": {},
   "outputs": [
    {
     "data": {
      "text/plain": [
       "(100, 4)"
      ]
     },
     "execution_count": 181,
     "metadata": {},
     "output_type": "execute_result"
    }
   ],
   "source": [
    "df1.shape"
   ]
  },
  {
   "cell_type": "code",
   "execution_count": 182,
   "id": "1eb3a251-7ec5-4f6b-b430-a9c3bb069958",
   "metadata": {},
   "outputs": [
    {
     "data": {
      "text/html": [
       "<div>\n",
       "<style scoped>\n",
       "    .dataframe tbody tr th:only-of-type {\n",
       "        vertical-align: middle;\n",
       "    }\n",
       "\n",
       "    .dataframe tbody tr th {\n",
       "        vertical-align: top;\n",
       "    }\n",
       "\n",
       "    .dataframe thead th {\n",
       "        text-align: right;\n",
       "    }\n",
       "</style>\n",
       "<table border=\"1\" class=\"dataframe\">\n",
       "  <thead>\n",
       "    <tr style=\"text-align: right;\">\n",
       "      <th></th>\n",
       "      <th>Quotes</th>\n",
       "      <th>Author</th>\n",
       "      <th>About(Prefix: https://quotes.toscrape.com)</th>\n",
       "      <th>Tags</th>\n",
       "    </tr>\n",
       "  </thead>\n",
       "  <tbody>\n",
       "    <tr>\n",
       "      <th>0</th>\n",
       "      <td>The world as we have created it is a process o...</td>\n",
       "      <td>Albert Einstein</td>\n",
       "      <td>/author/Albert-Einstein</td>\n",
       "      <td>change, deep-thoughts, thinking, world</td>\n",
       "    </tr>\n",
       "    <tr>\n",
       "      <th>1</th>\n",
       "      <td>It is our choices, Harry, that show what we tr...</td>\n",
       "      <td>J.K. Rowling</td>\n",
       "      <td>/author/J-K-Rowling</td>\n",
       "      <td>abilities, choices</td>\n",
       "    </tr>\n",
       "    <tr>\n",
       "      <th>2</th>\n",
       "      <td>There are only two ways to live your life. One...</td>\n",
       "      <td>Albert Einstein</td>\n",
       "      <td>/author/Albert-Einstein</td>\n",
       "      <td>inspirational, life, live, miracle, miracles</td>\n",
       "    </tr>\n",
       "    <tr>\n",
       "      <th>3</th>\n",
       "      <td>The person, be it gentleman or lady, who has n...</td>\n",
       "      <td>Jane Austen</td>\n",
       "      <td>/author/Jane-Austen</td>\n",
       "      <td>aliteracy, books, classic, humor</td>\n",
       "    </tr>\n",
       "    <tr>\n",
       "      <th>4</th>\n",
       "      <td>Imperfection is beauty, madness is genius and ...</td>\n",
       "      <td>Marilyn Monroe</td>\n",
       "      <td>/author/Marilyn-Monroe</td>\n",
       "      <td>be-yourself, inspirational</td>\n",
       "    </tr>\n",
       "    <tr>\n",
       "      <th>...</th>\n",
       "      <td>...</td>\n",
       "      <td>...</td>\n",
       "      <td>...</td>\n",
       "      <td>...</td>\n",
       "    </tr>\n",
       "    <tr>\n",
       "      <th>95</th>\n",
       "      <td>You never really understand a person until you...</td>\n",
       "      <td>Harper Lee</td>\n",
       "      <td>/author/Harper-Lee</td>\n",
       "      <td>better-life-empathy</td>\n",
       "    </tr>\n",
       "    <tr>\n",
       "      <th>96</th>\n",
       "      <td>You have to write the book that wants to be wr...</td>\n",
       "      <td>Madeleine L'Engle</td>\n",
       "      <td>/author/Madeleine-LEngle</td>\n",
       "      <td>books, children, difficult, grown-ups, write, ...</td>\n",
       "    </tr>\n",
       "    <tr>\n",
       "      <th>97</th>\n",
       "      <td>Never tell the truth to people who are not wor...</td>\n",
       "      <td>Mark Twain</td>\n",
       "      <td>/author/Mark-Twain</td>\n",
       "      <td>truth</td>\n",
       "    </tr>\n",
       "    <tr>\n",
       "      <th>98</th>\n",
       "      <td>A person's a person, no matter how small.</td>\n",
       "      <td>Dr. Seuss</td>\n",
       "      <td>/author/Dr-Seuss</td>\n",
       "      <td>inspirational</td>\n",
       "    </tr>\n",
       "    <tr>\n",
       "      <th>99</th>\n",
       "      <td>... a mind needs books as a sword needs a whet...</td>\n",
       "      <td>George R.R. Martin</td>\n",
       "      <td>/author/George-R-R-Martin</td>\n",
       "      <td>books, mind</td>\n",
       "    </tr>\n",
       "  </tbody>\n",
       "</table>\n",
       "<p>100 rows × 4 columns</p>\n",
       "</div>"
      ],
      "text/plain": [
       "                                               Quotes              Author  \\\n",
       "0   The world as we have created it is a process o...     Albert Einstein   \n",
       "1   It is our choices, Harry, that show what we tr...        J.K. Rowling   \n",
       "2   There are only two ways to live your life. One...     Albert Einstein   \n",
       "3   The person, be it gentleman or lady, who has n...         Jane Austen   \n",
       "4   Imperfection is beauty, madness is genius and ...      Marilyn Monroe   \n",
       "..                                                ...                 ...   \n",
       "95  You never really understand a person until you...          Harper Lee   \n",
       "96  You have to write the book that wants to be wr...   Madeleine L'Engle   \n",
       "97  Never tell the truth to people who are not wor...          Mark Twain   \n",
       "98          A person's a person, no matter how small.           Dr. Seuss   \n",
       "99  ... a mind needs books as a sword needs a whet...  George R.R. Martin   \n",
       "\n",
       "   About(Prefix: https://quotes.toscrape.com)  \\\n",
       "0                     /author/Albert-Einstein   \n",
       "1                         /author/J-K-Rowling   \n",
       "2                     /author/Albert-Einstein   \n",
       "3                         /author/Jane-Austen   \n",
       "4                      /author/Marilyn-Monroe   \n",
       "..                                        ...   \n",
       "95                         /author/Harper-Lee   \n",
       "96                   /author/Madeleine-LEngle   \n",
       "97                         /author/Mark-Twain   \n",
       "98                           /author/Dr-Seuss   \n",
       "99                  /author/George-R-R-Martin   \n",
       "\n",
       "                                                 Tags  \n",
       "0              change, deep-thoughts, thinking, world  \n",
       "1                                  abilities, choices  \n",
       "2        inspirational, life, live, miracle, miracles  \n",
       "3                    aliteracy, books, classic, humor  \n",
       "4                          be-yourself, inspirational  \n",
       "..                                                ...  \n",
       "95                                better-life-empathy  \n",
       "96  books, children, difficult, grown-ups, write, ...  \n",
       "97                                              truth  \n",
       "98                                      inspirational  \n",
       "99                                        books, mind  \n",
       "\n",
       "[100 rows x 4 columns]"
      ]
     },
     "execution_count": 182,
     "metadata": {},
     "output_type": "execute_result"
    }
   ],
   "source": [
    "df1"
   ]
  },
  {
   "cell_type": "code",
   "execution_count": 183,
   "id": "cbcaea21-c307-41dc-844f-2227e9c5e0f3",
   "metadata": {},
   "outputs": [],
   "source": [
    "df1.to_csv(\"Quotes.csv\")"
   ]
  },
  {
   "cell_type": "code",
   "execution_count": 184,
   "id": "54ce23f3-8853-4e4b-b973-c4ce5c20f378",
   "metadata": {},
   "outputs": [],
   "source": [
    "df = pd.read_csv(\"Quotes.csv\")"
   ]
  },
  {
   "cell_type": "code",
   "execution_count": 185,
   "id": "f8432ca9-7804-4d69-9ae4-8056a1dcfb54",
   "metadata": {},
   "outputs": [
    {
     "data": {
      "text/html": [
       "<div>\n",
       "<style scoped>\n",
       "    .dataframe tbody tr th:only-of-type {\n",
       "        vertical-align: middle;\n",
       "    }\n",
       "\n",
       "    .dataframe tbody tr th {\n",
       "        vertical-align: top;\n",
       "    }\n",
       "\n",
       "    .dataframe thead th {\n",
       "        text-align: right;\n",
       "    }\n",
       "</style>\n",
       "<table border=\"1\" class=\"dataframe\">\n",
       "  <thead>\n",
       "    <tr style=\"text-align: right;\">\n",
       "      <th></th>\n",
       "      <th>Unnamed: 0</th>\n",
       "      <th>Quotes</th>\n",
       "      <th>Author</th>\n",
       "      <th>About(Prefix: https://quotes.toscrape.com)</th>\n",
       "      <th>Tags</th>\n",
       "    </tr>\n",
       "  </thead>\n",
       "  <tbody>\n",
       "    <tr>\n",
       "      <th>0</th>\n",
       "      <td>0</td>\n",
       "      <td>The world as we have created it is a process o...</td>\n",
       "      <td>Albert Einstein</td>\n",
       "      <td>/author/Albert-Einstein</td>\n",
       "      <td>change, deep-thoughts, thinking, world</td>\n",
       "    </tr>\n",
       "    <tr>\n",
       "      <th>1</th>\n",
       "      <td>1</td>\n",
       "      <td>It is our choices, Harry, that show what we tr...</td>\n",
       "      <td>J.K. Rowling</td>\n",
       "      <td>/author/J-K-Rowling</td>\n",
       "      <td>abilities, choices</td>\n",
       "    </tr>\n",
       "    <tr>\n",
       "      <th>2</th>\n",
       "      <td>2</td>\n",
       "      <td>There are only two ways to live your life. One...</td>\n",
       "      <td>Albert Einstein</td>\n",
       "      <td>/author/Albert-Einstein</td>\n",
       "      <td>inspirational, life, live, miracle, miracles</td>\n",
       "    </tr>\n",
       "    <tr>\n",
       "      <th>3</th>\n",
       "      <td>3</td>\n",
       "      <td>The person, be it gentleman or lady, who has n...</td>\n",
       "      <td>Jane Austen</td>\n",
       "      <td>/author/Jane-Austen</td>\n",
       "      <td>aliteracy, books, classic, humor</td>\n",
       "    </tr>\n",
       "    <tr>\n",
       "      <th>4</th>\n",
       "      <td>4</td>\n",
       "      <td>Imperfection is beauty, madness is genius and ...</td>\n",
       "      <td>Marilyn Monroe</td>\n",
       "      <td>/author/Marilyn-Monroe</td>\n",
       "      <td>be-yourself, inspirational</td>\n",
       "    </tr>\n",
       "    <tr>\n",
       "      <th>...</th>\n",
       "      <td>...</td>\n",
       "      <td>...</td>\n",
       "      <td>...</td>\n",
       "      <td>...</td>\n",
       "      <td>...</td>\n",
       "    </tr>\n",
       "    <tr>\n",
       "      <th>95</th>\n",
       "      <td>95</td>\n",
       "      <td>You never really understand a person until you...</td>\n",
       "      <td>Harper Lee</td>\n",
       "      <td>/author/Harper-Lee</td>\n",
       "      <td>better-life-empathy</td>\n",
       "    </tr>\n",
       "    <tr>\n",
       "      <th>96</th>\n",
       "      <td>96</td>\n",
       "      <td>You have to write the book that wants to be wr...</td>\n",
       "      <td>Madeleine L'Engle</td>\n",
       "      <td>/author/Madeleine-LEngle</td>\n",
       "      <td>books, children, difficult, grown-ups, write, ...</td>\n",
       "    </tr>\n",
       "    <tr>\n",
       "      <th>97</th>\n",
       "      <td>97</td>\n",
       "      <td>Never tell the truth to people who are not wor...</td>\n",
       "      <td>Mark Twain</td>\n",
       "      <td>/author/Mark-Twain</td>\n",
       "      <td>truth</td>\n",
       "    </tr>\n",
       "    <tr>\n",
       "      <th>98</th>\n",
       "      <td>98</td>\n",
       "      <td>A person's a person, no matter how small.</td>\n",
       "      <td>Dr. Seuss</td>\n",
       "      <td>/author/Dr-Seuss</td>\n",
       "      <td>inspirational</td>\n",
       "    </tr>\n",
       "    <tr>\n",
       "      <th>99</th>\n",
       "      <td>99</td>\n",
       "      <td>... a mind needs books as a sword needs a whet...</td>\n",
       "      <td>George R.R. Martin</td>\n",
       "      <td>/author/George-R-R-Martin</td>\n",
       "      <td>books, mind</td>\n",
       "    </tr>\n",
       "  </tbody>\n",
       "</table>\n",
       "<p>100 rows × 5 columns</p>\n",
       "</div>"
      ],
      "text/plain": [
       "    Unnamed: 0                                             Quotes  \\\n",
       "0            0  The world as we have created it is a process o...   \n",
       "1            1  It is our choices, Harry, that show what we tr...   \n",
       "2            2  There are only two ways to live your life. One...   \n",
       "3            3  The person, be it gentleman or lady, who has n...   \n",
       "4            4  Imperfection is beauty, madness is genius and ...   \n",
       "..         ...                                                ...   \n",
       "95          95  You never really understand a person until you...   \n",
       "96          96  You have to write the book that wants to be wr...   \n",
       "97          97  Never tell the truth to people who are not wor...   \n",
       "98          98          A person's a person, no matter how small.   \n",
       "99          99  ... a mind needs books as a sword needs a whet...   \n",
       "\n",
       "                Author About(Prefix: https://quotes.toscrape.com)  \\\n",
       "0      Albert Einstein                    /author/Albert-Einstein   \n",
       "1         J.K. Rowling                        /author/J-K-Rowling   \n",
       "2      Albert Einstein                    /author/Albert-Einstein   \n",
       "3          Jane Austen                        /author/Jane-Austen   \n",
       "4       Marilyn Monroe                     /author/Marilyn-Monroe   \n",
       "..                 ...                                        ...   \n",
       "95          Harper Lee                         /author/Harper-Lee   \n",
       "96   Madeleine L'Engle                   /author/Madeleine-LEngle   \n",
       "97          Mark Twain                         /author/Mark-Twain   \n",
       "98           Dr. Seuss                           /author/Dr-Seuss   \n",
       "99  George R.R. Martin                  /author/George-R-R-Martin   \n",
       "\n",
       "                                                 Tags  \n",
       "0              change, deep-thoughts, thinking, world  \n",
       "1                                  abilities, choices  \n",
       "2        inspirational, life, live, miracle, miracles  \n",
       "3                    aliteracy, books, classic, humor  \n",
       "4                          be-yourself, inspirational  \n",
       "..                                                ...  \n",
       "95                                better-life-empathy  \n",
       "96  books, children, difficult, grown-ups, write, ...  \n",
       "97                                              truth  \n",
       "98                                      inspirational  \n",
       "99                                        books, mind  \n",
       "\n",
       "[100 rows x 5 columns]"
      ]
     },
     "execution_count": 185,
     "metadata": {},
     "output_type": "execute_result"
    }
   ],
   "source": [
    "df"
   ]
  },
  {
   "cell_type": "code",
   "execution_count": null,
   "id": "abd79942-96d1-407a-b3b0-52263bcf6e0c",
   "metadata": {},
   "outputs": [],
   "source": []
  },
  {
   "cell_type": "code",
   "execution_count": null,
   "id": "3d70daea-7eda-4fa4-92bb-38e5b259bbb0",
   "metadata": {},
   "outputs": [],
   "source": []
  },
  {
   "cell_type": "code",
   "execution_count": null,
   "id": "bb557669-44c8-4d1b-858a-45a74a2e476d",
   "metadata": {},
   "outputs": [],
   "source": []
  },
  {
   "cell_type": "code",
   "execution_count": null,
   "id": "8e2ced6e-51b0-48a8-9dca-c37d394021aa",
   "metadata": {},
   "outputs": [],
   "source": []
  },
  {
   "cell_type": "code",
   "execution_count": null,
   "id": "84dba117-b063-4741-aad9-89bfb7df6029",
   "metadata": {},
   "outputs": [],
   "source": []
  },
  {
   "cell_type": "code",
   "execution_count": null,
   "id": "20711500-e5c4-4be0-8ec6-3a622189d8a1",
   "metadata": {},
   "outputs": [],
   "source": []
  },
  {
   "cell_type": "code",
   "execution_count": null,
   "id": "4d009b49-437c-4808-9521-8ca9324e40bd",
   "metadata": {},
   "outputs": [],
   "source": []
  },
  {
   "cell_type": "code",
   "execution_count": null,
   "id": "06e8a0a3-79c3-4a74-94c5-f28d25f23fd2",
   "metadata": {},
   "outputs": [],
   "source": []
  },
  {
   "cell_type": "code",
   "execution_count": null,
   "id": "a0a5dfa3-96ea-46a7-9219-fa7a4f66a048",
   "metadata": {},
   "outputs": [],
   "source": []
  },
  {
   "cell_type": "code",
   "execution_count": null,
   "id": "dc7fb2fb-d328-44e5-b728-c9ceff2be035",
   "metadata": {},
   "outputs": [],
   "source": []
  },
  {
   "cell_type": "code",
   "execution_count": null,
   "id": "aa2a40e4-dc0f-422b-9664-fbe7611947ea",
   "metadata": {},
   "outputs": [],
   "source": []
  },
  {
   "cell_type": "code",
   "execution_count": null,
   "id": "d4f9b66d-ec11-47ad-8262-f8e588324795",
   "metadata": {},
   "outputs": [],
   "source": []
  },
  {
   "cell_type": "code",
   "execution_count": null,
   "id": "5f1365e1-48b3-465d-ac40-67a29bacbad7",
   "metadata": {},
   "outputs": [],
   "source": []
  },
  {
   "cell_type": "code",
   "execution_count": null,
   "id": "d09c6028-237e-4386-bb5c-4ed992104d4c",
   "metadata": {},
   "outputs": [],
   "source": []
  },
  {
   "cell_type": "code",
   "execution_count": null,
   "id": "667db081-6a06-4730-b798-2bc5a563477c",
   "metadata": {},
   "outputs": [],
   "source": []
  },
  {
   "cell_type": "code",
   "execution_count": null,
   "id": "4a5c0adb-0e0c-4d16-9be0-c42b9f96fcb8",
   "metadata": {},
   "outputs": [],
   "source": []
  },
  {
   "cell_type": "code",
   "execution_count": null,
   "id": "eb5b062b-f76c-4bac-b960-2ba2b14275d7",
   "metadata": {},
   "outputs": [],
   "source": []
  },
  {
   "cell_type": "code",
   "execution_count": null,
   "id": "b3a5e40e-b1df-4541-a5be-b16eb6421233",
   "metadata": {},
   "outputs": [],
   "source": []
  },
  {
   "cell_type": "code",
   "execution_count": null,
   "id": "05d16241-d1b6-4dae-9b4c-c5b09d39f697",
   "metadata": {},
   "outputs": [],
   "source": []
  },
  {
   "cell_type": "code",
   "execution_count": null,
   "id": "4de799bf-5b97-4803-94a7-2bb85f7baa7d",
   "metadata": {},
   "outputs": [],
   "source": []
  },
  {
   "cell_type": "code",
   "execution_count": null,
   "id": "e5915655-ff2e-439e-8682-499d57e58e4e",
   "metadata": {},
   "outputs": [],
   "source": []
  },
  {
   "cell_type": "code",
   "execution_count": null,
   "id": "318b7266-f42a-4772-bd0f-859275ff84be",
   "metadata": {},
   "outputs": [],
   "source": []
  },
  {
   "cell_type": "code",
   "execution_count": null,
   "id": "94d4f8ac-90d8-4d60-a461-0f28d6618191",
   "metadata": {},
   "outputs": [],
   "source": []
  },
  {
   "cell_type": "code",
   "execution_count": null,
   "id": "05c76194-7349-4ef5-a4b5-32fac4bbed90",
   "metadata": {},
   "outputs": [],
   "source": []
  }
 ],
 "metadata": {
  "kernelspec": {
   "display_name": "Python 3 (ipykernel)",
   "language": "python",
   "name": "python3"
  },
  "language_info": {
   "codemirror_mode": {
    "name": "ipython",
    "version": 3
   },
   "file_extension": ".py",
   "mimetype": "text/x-python",
   "name": "python",
   "nbconvert_exporter": "python",
   "pygments_lexer": "ipython3",
   "version": "3.11.7"
  }
 },
 "nbformat": 4,
 "nbformat_minor": 5
}
