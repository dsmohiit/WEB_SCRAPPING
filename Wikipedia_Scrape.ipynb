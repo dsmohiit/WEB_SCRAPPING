{
  "nbformat": 4,
  "nbformat_minor": 0,
  "metadata": {
    "colab": {
      "provenance": [],
      "gpuType": "V28",
      "authorship_tag": "ABX9TyPmRA27EPlCsa8zCa6R/Wuv",
      "include_colab_link": true
    },
    "kernelspec": {
      "name": "python3",
      "display_name": "Python 3"
    },
    "language_info": {
      "name": "python"
    },
    "accelerator": "TPU"
  },
  "cells": [
    {
      "cell_type": "markdown",
      "metadata": {
        "id": "view-in-github",
        "colab_type": "text"
      },
      "source": [
        "<a href=\"https://colab.research.google.com/github/dsmohiit/WEB_SCRAPPING/blob/main/Wikipedia_Scrape.ipynb\" target=\"_parent\"><img src=\"https://colab.research.google.com/assets/colab-badge.svg\" alt=\"Open In Colab\"/></a>"
      ]
    },
    {
      "cell_type": "code",
      "source": [
        "!pip install lxml"
      ],
      "metadata": {
        "colab": {
          "base_uri": "https://localhost:8080/"
        },
        "id": "9k2FU7DgtE5m",
        "outputId": "cdeea24c-4979-418b-fee8-1bf516385c98"
      },
      "execution_count": 18,
      "outputs": [
        {
          "output_type": "stream",
          "name": "stdout",
          "text": [
            "Collecting lxml\n",
            "  Downloading lxml-5.2.1-cp310-cp310-manylinux_2_28_x86_64.whl (5.0 MB)\n",
            "\u001b[2K     \u001b[90m━━━━━━━━━━━━━━━━━━━━━━━━━━━━━━━━━━━━━━━━\u001b[0m \u001b[32m5.0/5.0 MB\u001b[0m \u001b[31m16.7 MB/s\u001b[0m eta \u001b[36m0:00:00\u001b[0m\n",
            "\u001b[?25hInstalling collected packages: lxml\n",
            "Successfully installed lxml-5.2.1\n"
          ]
        }
      ]
    },
    {
      "cell_type": "code",
      "execution_count": 127,
      "metadata": {
        "id": "RQRjqtUsa6IR"
      },
      "outputs": [],
      "source": [
        "import pandas as pd\n",
        "import requests\n",
        "from tqdm import tqdm\n",
        "from bs4 import BeautifulSoup"
      ]
    },
    {
      "cell_type": "code",
      "source": [
        "topic = str(input(\"Enter the topic: \")).replace(\" \", \"+\")\n",
        "link = \"https://www.google.com/search?q=\" + topic + \"+wikipedia\""
      ],
      "metadata": {
        "colab": {
          "base_uri": "https://localhost:8080/"
        },
        "id": "VQAPRYKYn35X",
        "outputId": "5549db86-27d5-4c83-a1ee-eec57e827c7c"
      },
      "execution_count": 128,
      "outputs": [
        {
          "name": "stdout",
          "output_type": "stream",
          "text": [
            "Enter the topic: Rahul Gandhi\n"
          ]
        }
      ]
    },
    {
      "cell_type": "code",
      "source": [
        "res = requests.get(link)"
      ],
      "metadata": {
        "id": "RYakbLwCbaGS"
      },
      "execution_count": 129,
      "outputs": []
    },
    {
      "cell_type": "code",
      "source": [
        "soup = BeautifulSoup(res.text, \"html.parser\")"
      ],
      "metadata": {
        "id": "l9NDvoc_baLm"
      },
      "execution_count": 130,
      "outputs": []
    },
    {
      "cell_type": "code",
      "source": [
        "for sp in soup.find_all(\"div\"):\n",
        "  try:\n",
        "    link = sp.find(\"a\").get(\"href\")\n",
        "    if \"https://en.wikipedia.org/\" in link:\n",
        "      break\n",
        "  except:\n",
        "    pass"
      ],
      "metadata": {
        "id": "CqTAAEoxn4AX"
      },
      "execution_count": 131,
      "outputs": []
    },
    {
      "cell_type": "code",
      "source": [
        "link = link[7:].split(\"&\")[0]"
      ],
      "metadata": {
        "id": "-9BG993Qx5R8"
      },
      "execution_count": 132,
      "outputs": []
    },
    {
      "cell_type": "code",
      "source": [
        "link"
      ],
      "metadata": {
        "colab": {
          "base_uri": "https://localhost:8080/",
          "height": 36
        },
        "id": "APDiivwTy5MZ",
        "outputId": "2c8ca2d5-ef60-476c-85e5-710c76ebf7f2"
      },
      "execution_count": 133,
      "outputs": [
        {
          "output_type": "execute_result",
          "data": {
            "text/plain": [
              "'https://en.wikipedia.org/wiki/Rahul_Gandhi'"
            ],
            "application/vnd.google.colaboratory.intrinsic+json": {
              "type": "string"
            }
          },
          "metadata": {},
          "execution_count": 133
        }
      ]
    },
    {
      "cell_type": "code",
      "source": [
        "res = requests.get(link)\n",
        "soup = BeautifulSoup(res.text, \"html.parser\")\n",
        "\n",
        "corpus = \"\"\n",
        "\n",
        "for p in soup.find_all(\"p\"):\n",
        "  corpus = corpus + p.text\n",
        "  corpus = corpus + \"\\n\"\n",
        "\n",
        "corpus = corpus.strip()"
      ],
      "metadata": {
        "id": "zQaHYERWbaWU"
      },
      "execution_count": 134,
      "outputs": []
    },
    {
      "cell_type": "code",
      "source": [
        "for i in tqdm(range(2, 362)):\n",
        "  corpus = corpus.replace(\"[\" + str(i) + \"]\", \"\")"
      ],
      "metadata": {
        "id": "7ow7aDfJbacK",
        "colab": {
          "base_uri": "https://localhost:8080/"
        },
        "outputId": "798d6a30-9b56-4a23-94b0-672ccf2e8782"
      },
      "execution_count": 135,
      "outputs": [
        {
          "output_type": "stream",
          "name": "stderr",
          "text": [
            "100%|██████████| 360/360 [00:00<00:00, 75275.41it/s]\n"
          ]
        }
      ]
    },
    {
      "cell_type": "code",
      "source": [
        "corpus"
      ],
      "metadata": {
        "id": "QtbIh6CWbafC",
        "colab": {
          "base_uri": "https://localhost:8080/",
          "height": 140
        },
        "outputId": "cc94894a-371c-4f76-a7b2-3bf66b2adb78"
      },
      "execution_count": 136,
      "outputs": [
        {
          "output_type": "execute_result",
          "data": {
            "text/plain": [
              "'Rahul Rajiv Gandhi (Hindi pronunciation: [ˈraːɦʊl raːdʒiːʋ ˈɡaːndʱiː] ⓘ; born 19 June 1970) is an Indian politician and a member of the Indian Parliament who represents the constituency of Wayanad, Kerala, in the Lok Sabha. He previously represented the constituency of Amethi, Uttar Pradesh. He is a member of the main opposition party, the Indian National Congress, and was the party president from December 2017 to July 2019. Gandhi is the chairperson of the Indian Youth Congress, the National Students Union of India and a trustee of the Rajiv Gandhi Foundation and Rajiv Gandhi Charitable Trust. He is the son of the former Prime Minister of India, Rajiv Gandhi.\\n\\nBorn in New Delhi, Gandhi spent his early childhood between Delhi and Dehradun and stayed away from the public sphere for much of his childhood and early youth. He received primary education in New Delhi and then attended The Doon School in Dehradun. However, due to security concerns, he was later home-schooled. Gandhi commenced his undergraduate degree at St. Stephen\\'s College before moving to Harvard University. The following year, due to security threats following the assassination of his father, he moved to Rollins College in Florida, completing his degree in 1994. The next year, he obtained his M.Phil. from Cambridge. After completing his post-graduation, he initiated his professional career with the Monitor Group, a management consulting firm in London. Soon thereafter, he returned to India and founded Backops Services Private Ltd, a technology outsourcing firm based in Mumbai.\\n\\nGandhi contested and won the 14th general elections from Amethi in 2004. He won again in general elections held in 2009 and 2014. Gandhi led the party in the 2014 and 2019 Indian general elections, with the party facing significant losses in both, especially in 2014 where they won only 44 seats whereas in 2019 elections the party won 52 seats. Gandhi has also served as members of several parliament Committees including, Home Affairs, Human Resource Development, External Affairs, Ministry of Finance and Corporate Affairs and Defence.\\n\\nGandhi was born on 19 June 1970 at Holy Family Hospital in Delhi. He was the first of two children born to Rajiv Gandhi, who later served as the 6th Prime Minister of India, and Sonia Gandhi, who went on to become the President of the Indian National Congress. As the grandson of former prime minister Indira Gandhi, his lineage is deeply rooted in Indian political history. His paternal grandfather, Feroze Gandhi, hailed from Gujarat and was of Parsi descent. Furthermore, he is the great-grandson of India\\'s inaugural prime minister, Jawaharlal Nehru.\\n\\nGandhi completed his elementary education at St. Columba\\'s School in New Delhi. He then attended The Doon School in Dehradun (also the alma mater of his father, Rajiv Gandhi) from 1981 to 1983. At Doon, Gandhi\\'s contemporaries were the former Congress, now-Bharatiya Janata Party (BJP) politicians Jyotiraditya Scindia and Jitin Prasada. Following the assassination of Indira Gandhi by Sikhs in her personal guard on 31 October 1984, his father entered politics and became the 6th Prime Minister of India. Due to security threats from Sikh extremists, Gandhi and his sister Priyanka were home-schooled, taking examinations under the supervision of teachers. Spending their childhood away from media attention, Gandhi and his sister were kept low profiles, appearing with their parents at only a handful of public occasions.\\n\\nGandhi joined St. Stephen\\'s College, Delhi, an affiliated college of the University of Delhi, in 1989 for his undergraduate education. Gandhi\\'s academic performance in Class XII, with a score of 61 per cent in the CBSE school certificate, was perceived as not particularly strong. However, he gained admission to St. Stephen’s College for BA (Honors) History through the sports quota, which granted a 10 per cent advantage in exam scores to promising athletes; per National Rifle Association of India testimonials, Gandhi stood 4th in the 32nd National Shooting Competition held in New Delhi from 26 December 1988 to 5 January 1989. Gandhi had finished fourth in the Centre Fire Pistol 25 M (Indian Rule) Men’s civilian event with a score of 371 out of 400 points. By July 1989, Gandhi had won eight national awards. In 1991, following the assassination of Rajiv Gandhi by the LTTE during an election rally, Gandhi left St. Stephen’s and moved to Harvard University in the U.S. While at Harvard, Gandhi obtained a Master\\'s degree in Economics. However, reportedly due to security concerns, he subsequently relocated to Rollins College in Florida. He further went on to obtain an Master of Philosophy (MPhil) in Development Studies, from Trinity College, Cambridge in 1995.\\n\\nAfter completing higher education, Gandhi worked at the Monitor Group, a management consulting firm set up by Michael Porter of Harvard Business School, in London for three years. In 2002, he returned to India and established his technology consultancy, Backops Services Private Ltd, in Mumbai, where he served as one of the directors of the firm. Subsequently, he founded BackOps UK, a company that secured defense contracts from foreign suppliers.\\n\\nIn March 2004, Gandhi announced his entry into politics by declaring that he would contest the 14th general elections from his father\\'s former constituency of Amethi in Uttar Pradesh for the Lok Sabha, India\\'s lower house of parliament. His mother had held the seat until she transferred to the neighboring constituency of Raebareli. When Gandhi made this announcement, it came as a surprise to political commentators, who had perceived his sister Priyanka Gandhi as the more charismatic and probable successor. It generated speculation that the presence of a young member of India\\'s most famous political family would reinvigorate the Congress party\\'s political fortunes among India\\'s youthful population. In his first interview with foreign media, Gandhi portrayed himself as a uniter of the country and condemned \"divisive\" politics in India, saying that he would try to reduce caste and religious tensions.\\n\\nAfter being out of power for a record eight years, the Congress party returned to power, winning a total of 145 seats in the 2004 Indian general election. A coalition government was formed at the center by Congress with the backing of regional parties. Gandhi secured a victory by a substantial margin of over 100,000 votes, thereby maintaining the stronghold of his family in Uttar Pradesh. However, the party performed poorly in Uttar Pradesh, as it held only 10 out of the 80 Lok Sabha seats in the state, with a vote share of 12.53 per cent.  Gandhi did not hold any official role or position within the government. From 2004 to 2006, Gandhi served as a member for the Standing Committee on Home Affairs. Between 2006 and 2009, he served as the member of the Standing Committee on Human Resource Development.\\n\\nGandhi and his sister, Priyanka, managed their mother\\'s campaign for re-election to Raebareilly in 2006, which was won with a margin of over 400,000 votes. He was a prominent figure in the Congress campaign for the 2007 Uttar Pradesh Legislative Assembly election; Congress, however, did not perform well in those elections, winning only 22 seats of the 403 seats with 8.53 per cent of the vote. On 24 September 2007, Gandhi was appointed as the General Secretary of the All India Congress Committee, the governing body of the Congress party, as part of a reshuffle of the party secretariat. In the same reshuffle, he was also given charge of the Indian Youth Congress and the National Students Union of India.\\n\\nIn September 2007, Gandhi was appointed as general secretary of the Indian Youth Congress (IYC), segment of the Congress party that represents the younger generation, and the National Students Union of India (NSUI), the faction that caters to the student community. As the general secretary of the Indian Youth Congress (IYC) and the National Students Union of India (NSUI), Gandhi played a notable role in shaping the policies and strategies of these organisations. After his appointment, both groups saw a significant increase in membership, from 200,000 to 2.5 million. The IYC underwent a restructuring process to make it more democratic and inclusive. In November 2008, Gandhi held interviews at his 12 Tughlak Lane residence in New Delhi to handpick at least 40 people to make up the IYC\\'s think tank. In 2009, during Gandhi\\'s visit to West Bengal, the state unit of the Youth Congress registered 1 million members. Similarly, the IYC was only able to acquire around 10 to 15 new members per day in each assembly segment of Uttar Pradesh; however, after Gandhi\\'s visit, the number surged to 150 to 200 new members per day in the same regions.\\n\\nWhile serving as the general secretary of the NSUI, Gandhi played an active role in strengthening the organisation and increasing student participation in politics. Under his leadership, the NSUI initiated programs and campaigns to address issues affecting the student community, such as the quality of education, employment opportunities, and social justice. Gandhi also advocated for greater student representation in decision-making processes and supported student leaders in their endeavours.\\n\\nFor the 2009 Indian general election, Gandhi campaigned across India covering 22 states and 107 constituencies. His campaigning included addressing public rallies and meetings, interacting with voters, and highlighting the party\\'s vision and agenda for the country. He specifically focused on issues such as rural development, education, employment, and women\\'s empowerment. Gandhi, also emphasised the importance of youth participation in politics and urged them to be more involved in shaping the country\\'s future. The nationwide elections defied the predictions made by pre-poll predictions and exit polls and gave a clear mandate to the incumbent, Congress-led United Progressive Alliance (UPA) government.\\nWhile the Congress did not win a majority in the election, they emerged as the largest party and formed a coalition government with the support of other parties. Gandhi retained his Amethi seat by defeating his nearest rival by a margin of over 370,000 votes. Gandhi was credited with the Congress revival in Uttar Pradesh where they won 21 out of the total 80 Lok Sabha seats.\\n\\nGandhi contested the 2014 Indian general election from his constituency, Amethi, and led the election campaign of the Indian National Congress. Gandhi held the Amethi seat by defeating his nearest rival, BJP\\'s Smriti Irani, by a reduced margin of 107,000 votes, but the Congress suffered its worst-ever performance at an election and won only 44 seats, compared to the 206 seats won in 2009. The UPA also had its worst-ever performance in elections and won only 59 seats, compared to the 262 seats won in 2009. After the defeat, Gandhi offered to resign his posts, only to be rejected by the party\\'s working committee.\\n\\nGandhi led the 2019 election campaign of the Congress party. During  campaign, Gandhi announced \"Nyay\" (Nyuntam Aay Yojana— Minimum Income Gurantee) Scheme promising Rs 6,000 each to 20 per cent poorest households to his election speeches. Gandhi also promised to fill 22 lakhs government jobs within one year coming to power at the Centre. Gandhi used the slogan \"Chowkidar Chor Hai\" as a jibe against Narendra Modi, BJP\\'s prime ministerial candidate during his election rallies. The slogan was aimed at Modi about the alleged irregularities and favouritism in awarding the contracts for the Rafale fighter jet deal. Post election results the INC won 52 seats, eight more than the previous election. Its vote percentage once again fell below 20 per cent. Gandhi won the Wayanad seat with over 60 per cent vote share. However, he lost his existing seat of Amethi to Smriti Irani of the BJP by a margin of 55,120 votes.\\n\\nThe National Herald case revolves around allegations of financial irregularities and misuse of funds related to the National Herald newspaper. The case garnered attention when former BJP leader Subramanian Swamy filed a complaint accusing Sonia Gandhi, Rahul Gandhi, and five other Congress party leaders—Motilal Vora, Oscar Fernandes, Suman Dubey, and Satyan Pitroda—of cheating and misappropriating funds associated with the National Herald. The allegations by then-BJP leader Subramanian Swamy centered on a loan given by the Congress party to \"Associated Journals Limited\" (AJL), the company that owned the National Herald newspaper. Subramanian Swamy alleged that the loan, amounting to around ₹90 crore (equivalent to ₹202\\xa0crore or US$25\\xa0million in 2023), was not repaid. Instead, it was converted into equity, effectively transferring the ownership of AJL to a new company called \"Young India Ltd\" (YIL), in which Sonia Gandhi hold 76 per cent of the company\\'s shares, and the remaining 24 per cent are held by Congress leaders Motilal Vora and Oscar Fernandes. As per Swamy, YIL only paid ₹54 lakh (equivalent to ₹1.2\\xa0crore or US$150,000 in 2023) to get back ₹90 crore that Associated AJL owed to the Congress party. He also alleged that the loan given to AJL was illegal, as it had been taken from party funds.\\n\\nThe case went through various legal proceedings, including hearings in lower courts and the Delhi High Court. In December 2015, the Delhi High Court dismissed the appeals of Sonia Gandhi and five others, ordering them to appear in person before the trial court. In 2015, the Supreme Court of India instructed Swamy to present arguments for expediting the trial in the high court. Sonia Gandhi and Rahul Gandhi were granted bail by the trial court on December 19, 2015. Subsequently, in 2016, the Supreme Court exempted all five accused individuals (including the Gandhis, Motilal Vora, Oscar Fernandes, and Suman Dubey) from personally attending court hearings but declined to dismiss the ongoing legal proceedings against them. In December 2020, the Delhi court dismissed a petition filed by then-BJP leader Subramanian Swamy seeking to summon Rahul and Sonia Gandhi and others as accused in the case. The court held that there was no prima facie evidence to suggest their involvement in any corruption conspiracy. In 2014, the Enforcement Directorate (ED) initiated an investigation into Swamy\\'s complaint to determine if there were any indications of money laundering. The investigation was closed due to technical reasons. Nonetheless, Swamy wrote to prime minister Narendra Modi expressing his suspicions about ED Director Ranjan Katoch. Subsequently, in 2015, Katoch was replaced, and the case was reopened. In December 2015, the Patiala court granted bail to the five individuals accused in the case. The Congress party objected to Swamy\\'s complaint to the complaint, labelling it as “vindictive politics”.\\n\\nThe Bharat Jodo Yatra, which translates to \"Unify India March,\" was a campaign organized by the Congress party spanning from 2022 to 2023 with the stated primary objective of promoting national unity and solidarity across the various regions of India. It aimed to mobilize support for the INC and its ideology, emphasizing themes of patriotism, cultural heritage, and development. Gandhi started the initiative on 7 September 2022 at Kanyakumari after paying tributes to his late father Rajiv Gandhi, Swami Vivekananda, and the Tamil poet Thiruvalluvar. The yatra saw Gandhi along with INC leaders, including members of Parliament and notable personalities, traveling across the country, addressing rallies, conducting public meetings, and interacting with citizens. Throughout the yatra, Gandhi focused on issues such as economic development, social justice, and inclusive governance, aiming to strengthen the party\\'s grassroots presence and reinvigorate its political relevance on the national stage.\\n\\nThe yatra concluded on 29 January 2003 with the unfurling of the tricolour flag at Lal Chowk, Srinagar; it lasted 137 days, covering 4,080 kilometers (2,540 miles) over nearly five months across 12 states and two union territories. During the yatra, the INC elected a new party president and also won a majority in the 2022 Himachal Pradesh Legislative Assembly election, the first majority the party had won won by itself since 2018. In the subsequent elections in Karnataka and Telangana in 2023, the Congress party achieved a landslide victory, marked by an increase in both the party\\'s vote share and the number of seats compared to the previous elections in the constituencies through which the march had passed.\\n\\nFrom 14 January to 20 March 2024, Gandhi led a second yatra across India from east to west, the Bharat Jodo Nyay Yatra; unlike the previous version, the Yatra was conducted in a hybrid mode.\\n\\nOn 13 April 2019, during a political rally in Kolar, Karnataka, India before the 17th general election, Gandhi made a remark in Hindi, questioning, \"Why is it that all thieves, whether it be Nirav Modi, Lalit Modi, or Narendra Modi, have Modi in their names?\". A speech comparing Narendra Modi with Fugitive Economic Offenders such as Nirav Modi and Lalit Modi. A criminal defamation case was filed by Purnesh Modi, a Bharatiya Janata Party (BJP) MLA from Surat West. He alleged that Gandhi had defamed all individuals with the surname Modi. On July 16, 2019, the Surat court excused Gandhi from appearing personally in court due to short notice. On October 10, Gandhi pleaded not guilty in the Surat Court. Gandhi recorded his statements and responded to questions before the local court, first on June 24, 2021, and then again on October 29, 2021. During these appearances, Gandhi clarified to the court that he did not intend to defame any community. However, On 23 March 2023, Gandhi was convicted and sentenced to two years\\' imprisonment under charges of defamation. The day following the conviction, Utpal Kumar Singh, the Lok Sabha Secretary General, announced that Rahul Gandhi would be disqualified as a Member of Parliament representing the Wayanad constituency, effective from March 23, the date of his conviction. The Secretary General further said that this action was taken under Section 8 of the Representation of the People Act, 1951 (RPA), which deals with the disqualification of convicted representatives in India. Gandhi\\'s lawyer Abhishek Manu Singhvi appealed at the higher court and secured a one-month stay on the sentence. On August 5, the Supreme Court of India issued a stay on Gandhi\\'s conviction and sentence, handed down by Chief Judicial Magistrate in Surat on March 23, 2023.\\n\\nThe disqualification of Gandhi prompted widespread reactions and responses not only from the Congress party but also from opposition leaders and lawmakers abroad. Legal experts questioned the basis of the charge, as defamation is only actionable against individuals and not a generic class of people. The US House of Representatives, Ro Khanna, democrat co-chair of the India Caucus, described the removal of Gandhi from parliament as a \"deep betrayal\" of India’s \"deepest values\". Annalena Baerbock spokesperson for Germanys\\' Foreign Ministry stated that Berlin had \"acknowledged\" the verdict and was monitoring the subsequent steps, including the possibility of an appeal and whether the \"suspension of his mandate\" was deemed justified. US Senator Chris Van Hollen made a separate comment, stating that the news of the disqualification was \"alarming\".\\n\\nIn the 2004 general election, Gandhi contested from Amethi and won, securing 390,179 votes with a vote share of 66.18 per cent. He contested again in the 2009 general election from Amethi, winning with 464,195 votes and a vote share of 71.78 per cent. In the 2014, 2014 general election, he retained his seat in Amethi, winning with 408,651 votes and a vote share of 46.71 per cent. However, in the 2019, 2019 general election, Gandhi lost from Amethi, securing 413,394 votes with a vote share of 43.86 per cent. Nonetheless, he contested and won from Wayanad in the same election, garnering 706,367 votes with a vote share of 64.67 per cent.\\n\\nIn 2004, the Gandhi was elected to the 14th Lok Sabha and served as a member of the Standing Committee on Home Affairs from 2004 to 2006, as well as a member of the Standing Committee on Human Resource Development from 2006 to 2009. In 2009, they were re-elected to the 15th Lok Sabha for a second term and served as a member of the Standing Committee on Human Resource Development, along with being a member of the Consultative Committee on Rural Development.\\n\\nIn 2014, Gandhi was elected to the 16th Lok Sabha for a third term and served as a member of the Standing Committee on External Affairs, as well as a member of the Consultative Committee on Ministry of Finance and Corporate Affairs. In 2019, he was elected to the 17th Lok Sabha for a fourth term and served as a member of the Standing Committee on Defence, as well as a member of the Consultative Committee for the Ministry of External Affairs.\\n\\nBetween 2008 and 2013, Gandhi assumed the role of General Secretary within the Indian National Congress (INC). Since 2007, Gandhi has been the chairperson of both the Indian Youth Congress and the National Students\\' Union of India (NSUI), positions he established and currently holds. His tenure as Vice President of the INC, established in 2013, lasted until 2016, after which the position was abolished. Subsequently, from 2017 to 2019, Gandhi served as the President of the INC, succeeding Sonia Gandhi.\\n\\n\\nIn December 2010, during the United States diplomatic cables leak, WikiLeaks leaked a cable dated 3 August 2009 after Prime Minister Manmohan Singh had hosted a lunch on 20 July 2009 for Gandhi, then the General Secretary of the AICC. One of the guests who was invited for the lunch was the United States Ambassador to India, Timothy J. Roemer. In a \"candid conversation\" with Roemer, he said that he believes Hindu extremists pose a greater threat to his country than Muslim militants. Gandhi referred specifically to more-polarising figures in the Bharatiya Janata Party (BJP). Also responding to the ambassador\\'s query about the activities in the region by the Islamist militant organisation Lashkar-e-Taiba (LeT), Gandhi said there was evidence of some support for the group among certain elements in India\\'s indigenous Muslim population. In a response to this, the BJP heavily criticised Gandhi for his statements. BJP spokesperson Ravi Shankar Prasad slammed Gandhi, saying that his language was a bigger threat to India, dividing the people of the country on communal grounds. Speaking to reporters, Prasad said, \"In one stroke Mr. Rahul Gandhi has sought to give a big leverage to the propaganda to all the extremist and terrorist groups in Pakistan and also some segments of the Pakistani establishment. It would also seriously compromise India\\'s fight against terror as also our strategic security.\" Adding that terrorism has no religion, he claimed that Rahul Gandhi had shown his lack of understanding India. Gandhi has also been critical of groups like the RSS and has compared them to terrorist organisations like SIMI.\\nAfter the 2013 Muzaffarnagar riots at a Madhya Pradesh election rally in Indore, Gandhi claimed that a police officer told him that Pakistan\\'s military intelligence service, ISI, was trying to recruit disgruntled riot-affected youngsters. However, the district administration, the Uttar Pradesh state government, the Union Home Ministry, the Research and Analysis Wing (RAW) and the Intelligence Bureau (IB) denied any such development. This remark drew heavy criticism from various political outfits such as BJP, SP, CPI and JD(U). Congress\\'s Jairam Ramesh said Gandhi needed to apologise to the Muslim community for this remark. In reply to the ECI\\'s show-cause notice to explain why action should not be initiated against him for violating the Model Code of Conduct, Gandhi said that he didn\\'t intend to exploit communal sentiments but was referring to divisive politics.\\n\\nThe BJP also asked the government to explain why Gandhi, who holds no post in the government, was being briefed by intelligence officers on important security issues. On 13 November 2013, the Election Commission of India found Gandhi\\'s explanation to be insufficient, conveyed its displeasure, and advised him to be more circumspect in his public utterances during election campaigns.\\n\\n\\n\\nOn 19 April 2015 Gandhi addressed the farmer and worker\\'s rally, named as Kisan Khet Mazdoor Rally in Ramlila Maidan. Here he made \"references to his agitations in Niyamgiri in Orissa and Bhatta-Parsaul in Greater Noida in Uttar Pradesh\". The rally was attended by 100,000 people. In the speech he gave, he criticised the Indian prime minister Narendra Modi about his comment in Toronto where he said that he was \"cleaning the mess created by previous governments\". He also said, \"Do you know how Modi won the election?... He borrowed thousands of crores from industrialists for his several campaigns and advertisements. How will he pay them back? He will pay them back with your land. He will give your land to his industrialist friends.\"\\n\\nHe razzed the government as a \"suit-boot government\", a reference to Modi\\'s monogrammed suit which he wore in the Republic Day meeting with Barack Obama. Moreover, he used the \"acche din government\" jibe (which was Modi\\'s election campaign slogan meaning \"good days government\") and mentioned that it had \"failed the country\".\\n\\nA land bill was introduced by the BJP government in the parliament in May which was criticised by the opposition parties. Accusing the government of \"murdering\" UPA\\'s land bill, Gandhi promised to prevent the bill from being passed, if not in the parliament then would \"stop you [ BJP government] on streets\". He further accused the government of diluting the bill and called it \"anti-farmer\". Gandhi also drew a parallel between \"daylight robbery\" and the bill. On 26 May, the day of the Modi government\\'s first anniversary, Gandhi commented at a rally in Kozhikode \"Unfortunately, birthday celebrations is only for a few powerful friends of the government. Kisan, farmers and mazdoor have nothing to celebrate.\" \\n\\n\"India will be truly successful only when women occupy equal space in our society. They must take their rightful place in politics and shape India\\'s destiny.\"\\n\\nGandhi\\'s remarks on Women empowerment.\\nGandhi has spoken publicly about the importance of women\\'s empowerment and gender equality in India. While inaugurating \\'Utsaah\\', a Kerala Mahila Congress convention in Kochi, Gandhi stated that the Congress party would actively promote women within its organizational structure and set a target to have 50 per cent of women as chief ministers within the next 10 years. Gandhi initiated the Self-Help Groups amongst the women in the villages of Amethi. The primary focus of this scheme was to bring women together and empower them with information and decision making capabilities. He has called for increased representation of women in politics and for the eradication of gender-based violence. Under the second Manmohan Singh ministry, a Women\\'s Reservation Bill to require that a third of Lok Sabha and state legislative assembly seats be reserved for women was introduced in the Rajya Sabha.  \\nGandhi backed the bill, stating, \"Women do not need any protection. If you give them their rights, they can protect themselves\". This bill passed the Rajya Sabha on 9 March 2010, but it never received a vote in the Lok Sabha and eventually lapsed due to its pending status. In 2019, while addressing students in Chennai, Gandhi again called for 33 per cent reservation of all parliamentary Lok Sabha and state legislative assembly seats for women, as well as government jobs.\\n\\nOn 6 September 2018, the Supreme Court of India revoked Section 377 of the Indian Penal Code, an act which criminalised homosexual sex between adults. Gandhi had backed the repeal of Section 377 of the Indian Penal Code and the decriminalisation of homosexuality, stating that he believed that issues related to personal freedom should be left to the individual. He opined that it\\'s essential to uphold the constitutional guarantee of life and liberty to all citizens of India.\\n\\nGandhi has been very concerned about the environmental degradation of the world and has said that unless they are not made a political issue, they won\\'t get the attention they deserve.\\n\\nGandhi criticised Environment Impact Assessment (EIA) 2020 draft by calling it \"dangerous\" and said that its long term consequences will be harmful. Calling it a disaster, he said that it will silence the communities who will get directly impacted by environmental degradation.\\n\\nGandhi while addressing All India Congress Committee (AICC) in Jaipur, called for an end to red tape and outdated laws that slow job creation.\\nGandhi views the economic policies of Modi Government as fundamentally to benefit the 2-3 billionaires and has described them as crony capitalists. Calling the \"crony capitalists\" as best friends of Modi, he has been critical of the privatisation of government assets. He is of the view that RSS and crony capitalists are colluding to control India. He has been specifically harsh on Indian Billionaire Gautam Adani and said that Modi Government has been very favourable towards Adani. He sees the rise of Adani as a direct consequence of crony capitalism. He said that he is not anti-business and supports fairness. Disagreeing with privatisation of PSUs, he said that Congress will not allow the privatisation if it comes to power. Citing the report on inequality by Oxfam, he said that rising economic inequality is the result of Modi Government\\'s economic policies.\\n\\nGandhi has been very critical of the Modi government\\'s demonetisation of ₹500 and ₹1,000 banknotes of the Mahatma Gandhi Series. He has called it a \"tragedy\" and a \"disaster\" that has negatively impacted the Indian economy and the lives of ordinary citizens. Gandhi has also accused the government of carrying out the policy without adequate planning and causing immense hardship to the poor and vulnerable sections of society. He said that demonetisation is a fundamental failure of policy design and has alleged that it was a deliberate move by \"PayPM\" to help 2-3 billionaires to monopolise the economy. Terming demonetisation as the country\\'s “biggest scam”,\\n\\nDuring his public speeches and political rallies, Gandhi has consistently criticised the demonetisation move, claiming that it failed to achieve its intended objectives of combating black money and curbing corruption. He has also argued that the policy was implemented without proper consultation with experts or the opposition parties. Gandhi further asserted that, demonetisation caused significant disruption to farmers, and rendered millions jobless in small and medium-sized businesses, and workers in the informal sector.'"
            ],
            "application/vnd.google.colaboratory.intrinsic+json": {
              "type": "string"
            }
          },
          "metadata": {},
          "execution_count": 136
        }
      ]
    },
    {
      "cell_type": "code",
      "source": [
        "print(corpus)"
      ],
      "metadata": {
        "id": "GQ38-Pf5baiD",
        "colab": {
          "base_uri": "https://localhost:8080/"
        },
        "outputId": "2203b148-1f40-44ef-8c42-78848d6c40dd"
      },
      "execution_count": 137,
      "outputs": [
        {
          "output_type": "stream",
          "name": "stdout",
          "text": [
            "Rahul Rajiv Gandhi (Hindi pronunciation: [ˈraːɦʊl raːdʒiːʋ ˈɡaːndʱiː] ⓘ; born 19 June 1970) is an Indian politician and a member of the Indian Parliament who represents the constituency of Wayanad, Kerala, in the Lok Sabha. He previously represented the constituency of Amethi, Uttar Pradesh. He is a member of the main opposition party, the Indian National Congress, and was the party president from December 2017 to July 2019. Gandhi is the chairperson of the Indian Youth Congress, the National Students Union of India and a trustee of the Rajiv Gandhi Foundation and Rajiv Gandhi Charitable Trust. He is the son of the former Prime Minister of India, Rajiv Gandhi.\n",
            "\n",
            "Born in New Delhi, Gandhi spent his early childhood between Delhi and Dehradun and stayed away from the public sphere for much of his childhood and early youth. He received primary education in New Delhi and then attended The Doon School in Dehradun. However, due to security concerns, he was later home-schooled. Gandhi commenced his undergraduate degree at St. Stephen's College before moving to Harvard University. The following year, due to security threats following the assassination of his father, he moved to Rollins College in Florida, completing his degree in 1994. The next year, he obtained his M.Phil. from Cambridge. After completing his post-graduation, he initiated his professional career with the Monitor Group, a management consulting firm in London. Soon thereafter, he returned to India and founded Backops Services Private Ltd, a technology outsourcing firm based in Mumbai.\n",
            "\n",
            "Gandhi contested and won the 14th general elections from Amethi in 2004. He won again in general elections held in 2009 and 2014. Gandhi led the party in the 2014 and 2019 Indian general elections, with the party facing significant losses in both, especially in 2014 where they won only 44 seats whereas in 2019 elections the party won 52 seats. Gandhi has also served as members of several parliament Committees including, Home Affairs, Human Resource Development, External Affairs, Ministry of Finance and Corporate Affairs and Defence.\n",
            "\n",
            "Gandhi was born on 19 June 1970 at Holy Family Hospital in Delhi. He was the first of two children born to Rajiv Gandhi, who later served as the 6th Prime Minister of India, and Sonia Gandhi, who went on to become the President of the Indian National Congress. As the grandson of former prime minister Indira Gandhi, his lineage is deeply rooted in Indian political history. His paternal grandfather, Feroze Gandhi, hailed from Gujarat and was of Parsi descent. Furthermore, he is the great-grandson of India's inaugural prime minister, Jawaharlal Nehru.\n",
            "\n",
            "Gandhi completed his elementary education at St. Columba's School in New Delhi. He then attended The Doon School in Dehradun (also the alma mater of his father, Rajiv Gandhi) from 1981 to 1983. At Doon, Gandhi's contemporaries were the former Congress, now-Bharatiya Janata Party (BJP) politicians Jyotiraditya Scindia and Jitin Prasada. Following the assassination of Indira Gandhi by Sikhs in her personal guard on 31 October 1984, his father entered politics and became the 6th Prime Minister of India. Due to security threats from Sikh extremists, Gandhi and his sister Priyanka were home-schooled, taking examinations under the supervision of teachers. Spending their childhood away from media attention, Gandhi and his sister were kept low profiles, appearing with their parents at only a handful of public occasions.\n",
            "\n",
            "Gandhi joined St. Stephen's College, Delhi, an affiliated college of the University of Delhi, in 1989 for his undergraduate education. Gandhi's academic performance in Class XII, with a score of 61 per cent in the CBSE school certificate, was perceived as not particularly strong. However, he gained admission to St. Stephen’s College for BA (Honors) History through the sports quota, which granted a 10 per cent advantage in exam scores to promising athletes; per National Rifle Association of India testimonials, Gandhi stood 4th in the 32nd National Shooting Competition held in New Delhi from 26 December 1988 to 5 January 1989. Gandhi had finished fourth in the Centre Fire Pistol 25 M (Indian Rule) Men’s civilian event with a score of 371 out of 400 points. By July 1989, Gandhi had won eight national awards. In 1991, following the assassination of Rajiv Gandhi by the LTTE during an election rally, Gandhi left St. Stephen’s and moved to Harvard University in the U.S. While at Harvard, Gandhi obtained a Master's degree in Economics. However, reportedly due to security concerns, he subsequently relocated to Rollins College in Florida. He further went on to obtain an Master of Philosophy (MPhil) in Development Studies, from Trinity College, Cambridge in 1995.\n",
            "\n",
            "After completing higher education, Gandhi worked at the Monitor Group, a management consulting firm set up by Michael Porter of Harvard Business School, in London for three years. In 2002, he returned to India and established his technology consultancy, Backops Services Private Ltd, in Mumbai, where he served as one of the directors of the firm. Subsequently, he founded BackOps UK, a company that secured defense contracts from foreign suppliers.\n",
            "\n",
            "In March 2004, Gandhi announced his entry into politics by declaring that he would contest the 14th general elections from his father's former constituency of Amethi in Uttar Pradesh for the Lok Sabha, India's lower house of parliament. His mother had held the seat until she transferred to the neighboring constituency of Raebareli. When Gandhi made this announcement, it came as a surprise to political commentators, who had perceived his sister Priyanka Gandhi as the more charismatic and probable successor. It generated speculation that the presence of a young member of India's most famous political family would reinvigorate the Congress party's political fortunes among India's youthful population. In his first interview with foreign media, Gandhi portrayed himself as a uniter of the country and condemned \"divisive\" politics in India, saying that he would try to reduce caste and religious tensions.\n",
            "\n",
            "After being out of power for a record eight years, the Congress party returned to power, winning a total of 145 seats in the 2004 Indian general election. A coalition government was formed at the center by Congress with the backing of regional parties. Gandhi secured a victory by a substantial margin of over 100,000 votes, thereby maintaining the stronghold of his family in Uttar Pradesh. However, the party performed poorly in Uttar Pradesh, as it held only 10 out of the 80 Lok Sabha seats in the state, with a vote share of 12.53 per cent.  Gandhi did not hold any official role or position within the government. From 2004 to 2006, Gandhi served as a member for the Standing Committee on Home Affairs. Between 2006 and 2009, he served as the member of the Standing Committee on Human Resource Development.\n",
            "\n",
            "Gandhi and his sister, Priyanka, managed their mother's campaign for re-election to Raebareilly in 2006, which was won with a margin of over 400,000 votes. He was a prominent figure in the Congress campaign for the 2007 Uttar Pradesh Legislative Assembly election; Congress, however, did not perform well in those elections, winning only 22 seats of the 403 seats with 8.53 per cent of the vote. On 24 September 2007, Gandhi was appointed as the General Secretary of the All India Congress Committee, the governing body of the Congress party, as part of a reshuffle of the party secretariat. In the same reshuffle, he was also given charge of the Indian Youth Congress and the National Students Union of India.\n",
            "\n",
            "In September 2007, Gandhi was appointed as general secretary of the Indian Youth Congress (IYC), segment of the Congress party that represents the younger generation, and the National Students Union of India (NSUI), the faction that caters to the student community. As the general secretary of the Indian Youth Congress (IYC) and the National Students Union of India (NSUI), Gandhi played a notable role in shaping the policies and strategies of these organisations. After his appointment, both groups saw a significant increase in membership, from 200,000 to 2.5 million. The IYC underwent a restructuring process to make it more democratic and inclusive. In November 2008, Gandhi held interviews at his 12 Tughlak Lane residence in New Delhi to handpick at least 40 people to make up the IYC's think tank. In 2009, during Gandhi's visit to West Bengal, the state unit of the Youth Congress registered 1 million members. Similarly, the IYC was only able to acquire around 10 to 15 new members per day in each assembly segment of Uttar Pradesh; however, after Gandhi's visit, the number surged to 150 to 200 new members per day in the same regions.\n",
            "\n",
            "While serving as the general secretary of the NSUI, Gandhi played an active role in strengthening the organisation and increasing student participation in politics. Under his leadership, the NSUI initiated programs and campaigns to address issues affecting the student community, such as the quality of education, employment opportunities, and social justice. Gandhi also advocated for greater student representation in decision-making processes and supported student leaders in their endeavours.\n",
            "\n",
            "For the 2009 Indian general election, Gandhi campaigned across India covering 22 states and 107 constituencies. His campaigning included addressing public rallies and meetings, interacting with voters, and highlighting the party's vision and agenda for the country. He specifically focused on issues such as rural development, education, employment, and women's empowerment. Gandhi, also emphasised the importance of youth participation in politics and urged them to be more involved in shaping the country's future. The nationwide elections defied the predictions made by pre-poll predictions and exit polls and gave a clear mandate to the incumbent, Congress-led United Progressive Alliance (UPA) government.\n",
            "While the Congress did not win a majority in the election, they emerged as the largest party and formed a coalition government with the support of other parties. Gandhi retained his Amethi seat by defeating his nearest rival by a margin of over 370,000 votes. Gandhi was credited with the Congress revival in Uttar Pradesh where they won 21 out of the total 80 Lok Sabha seats.\n",
            "\n",
            "Gandhi contested the 2014 Indian general election from his constituency, Amethi, and led the election campaign of the Indian National Congress. Gandhi held the Amethi seat by defeating his nearest rival, BJP's Smriti Irani, by a reduced margin of 107,000 votes, but the Congress suffered its worst-ever performance at an election and won only 44 seats, compared to the 206 seats won in 2009. The UPA also had its worst-ever performance in elections and won only 59 seats, compared to the 262 seats won in 2009. After the defeat, Gandhi offered to resign his posts, only to be rejected by the party's working committee.\n",
            "\n",
            "Gandhi led the 2019 election campaign of the Congress party. During  campaign, Gandhi announced \"Nyay\" (Nyuntam Aay Yojana— Minimum Income Gurantee) Scheme promising Rs 6,000 each to 20 per cent poorest households to his election speeches. Gandhi also promised to fill 22 lakhs government jobs within one year coming to power at the Centre. Gandhi used the slogan \"Chowkidar Chor Hai\" as a jibe against Narendra Modi, BJP's prime ministerial candidate during his election rallies. The slogan was aimed at Modi about the alleged irregularities and favouritism in awarding the contracts for the Rafale fighter jet deal. Post election results the INC won 52 seats, eight more than the previous election. Its vote percentage once again fell below 20 per cent. Gandhi won the Wayanad seat with over 60 per cent vote share. However, he lost his existing seat of Amethi to Smriti Irani of the BJP by a margin of 55,120 votes.\n",
            "\n",
            "The National Herald case revolves around allegations of financial irregularities and misuse of funds related to the National Herald newspaper. The case garnered attention when former BJP leader Subramanian Swamy filed a complaint accusing Sonia Gandhi, Rahul Gandhi, and five other Congress party leaders—Motilal Vora, Oscar Fernandes, Suman Dubey, and Satyan Pitroda—of cheating and misappropriating funds associated with the National Herald. The allegations by then-BJP leader Subramanian Swamy centered on a loan given by the Congress party to \"Associated Journals Limited\" (AJL), the company that owned the National Herald newspaper. Subramanian Swamy alleged that the loan, amounting to around ₹90 crore (equivalent to ₹202 crore or US$25 million in 2023), was not repaid. Instead, it was converted into equity, effectively transferring the ownership of AJL to a new company called \"Young India Ltd\" (YIL), in which Sonia Gandhi hold 76 per cent of the company's shares, and the remaining 24 per cent are held by Congress leaders Motilal Vora and Oscar Fernandes. As per Swamy, YIL only paid ₹54 lakh (equivalent to ₹1.2 crore or US$150,000 in 2023) to get back ₹90 crore that Associated AJL owed to the Congress party. He also alleged that the loan given to AJL was illegal, as it had been taken from party funds.\n",
            "\n",
            "The case went through various legal proceedings, including hearings in lower courts and the Delhi High Court. In December 2015, the Delhi High Court dismissed the appeals of Sonia Gandhi and five others, ordering them to appear in person before the trial court. In 2015, the Supreme Court of India instructed Swamy to present arguments for expediting the trial in the high court. Sonia Gandhi and Rahul Gandhi were granted bail by the trial court on December 19, 2015. Subsequently, in 2016, the Supreme Court exempted all five accused individuals (including the Gandhis, Motilal Vora, Oscar Fernandes, and Suman Dubey) from personally attending court hearings but declined to dismiss the ongoing legal proceedings against them. In December 2020, the Delhi court dismissed a petition filed by then-BJP leader Subramanian Swamy seeking to summon Rahul and Sonia Gandhi and others as accused in the case. The court held that there was no prima facie evidence to suggest their involvement in any corruption conspiracy. In 2014, the Enforcement Directorate (ED) initiated an investigation into Swamy's complaint to determine if there were any indications of money laundering. The investigation was closed due to technical reasons. Nonetheless, Swamy wrote to prime minister Narendra Modi expressing his suspicions about ED Director Ranjan Katoch. Subsequently, in 2015, Katoch was replaced, and the case was reopened. In December 2015, the Patiala court granted bail to the five individuals accused in the case. The Congress party objected to Swamy's complaint to the complaint, labelling it as “vindictive politics”.\n",
            "\n",
            "The Bharat Jodo Yatra, which translates to \"Unify India March,\" was a campaign organized by the Congress party spanning from 2022 to 2023 with the stated primary objective of promoting national unity and solidarity across the various regions of India. It aimed to mobilize support for the INC and its ideology, emphasizing themes of patriotism, cultural heritage, and development. Gandhi started the initiative on 7 September 2022 at Kanyakumari after paying tributes to his late father Rajiv Gandhi, Swami Vivekananda, and the Tamil poet Thiruvalluvar. The yatra saw Gandhi along with INC leaders, including members of Parliament and notable personalities, traveling across the country, addressing rallies, conducting public meetings, and interacting with citizens. Throughout the yatra, Gandhi focused on issues such as economic development, social justice, and inclusive governance, aiming to strengthen the party's grassroots presence and reinvigorate its political relevance on the national stage.\n",
            "\n",
            "The yatra concluded on 29 January 2003 with the unfurling of the tricolour flag at Lal Chowk, Srinagar; it lasted 137 days, covering 4,080 kilometers (2,540 miles) over nearly five months across 12 states and two union territories. During the yatra, the INC elected a new party president and also won a majority in the 2022 Himachal Pradesh Legislative Assembly election, the first majority the party had won won by itself since 2018. In the subsequent elections in Karnataka and Telangana in 2023, the Congress party achieved a landslide victory, marked by an increase in both the party's vote share and the number of seats compared to the previous elections in the constituencies through which the march had passed.\n",
            "\n",
            "From 14 January to 20 March 2024, Gandhi led a second yatra across India from east to west, the Bharat Jodo Nyay Yatra; unlike the previous version, the Yatra was conducted in a hybrid mode.\n",
            "\n",
            "On 13 April 2019, during a political rally in Kolar, Karnataka, India before the 17th general election, Gandhi made a remark in Hindi, questioning, \"Why is it that all thieves, whether it be Nirav Modi, Lalit Modi, or Narendra Modi, have Modi in their names?\". A speech comparing Narendra Modi with Fugitive Economic Offenders such as Nirav Modi and Lalit Modi. A criminal defamation case was filed by Purnesh Modi, a Bharatiya Janata Party (BJP) MLA from Surat West. He alleged that Gandhi had defamed all individuals with the surname Modi. On July 16, 2019, the Surat court excused Gandhi from appearing personally in court due to short notice. On October 10, Gandhi pleaded not guilty in the Surat Court. Gandhi recorded his statements and responded to questions before the local court, first on June 24, 2021, and then again on October 29, 2021. During these appearances, Gandhi clarified to the court that he did not intend to defame any community. However, On 23 March 2023, Gandhi was convicted and sentenced to two years' imprisonment under charges of defamation. The day following the conviction, Utpal Kumar Singh, the Lok Sabha Secretary General, announced that Rahul Gandhi would be disqualified as a Member of Parliament representing the Wayanad constituency, effective from March 23, the date of his conviction. The Secretary General further said that this action was taken under Section 8 of the Representation of the People Act, 1951 (RPA), which deals with the disqualification of convicted representatives in India. Gandhi's lawyer Abhishek Manu Singhvi appealed at the higher court and secured a one-month stay on the sentence. On August 5, the Supreme Court of India issued a stay on Gandhi's conviction and sentence, handed down by Chief Judicial Magistrate in Surat on March 23, 2023.\n",
            "\n",
            "The disqualification of Gandhi prompted widespread reactions and responses not only from the Congress party but also from opposition leaders and lawmakers abroad. Legal experts questioned the basis of the charge, as defamation is only actionable against individuals and not a generic class of people. The US House of Representatives, Ro Khanna, democrat co-chair of the India Caucus, described the removal of Gandhi from parliament as a \"deep betrayal\" of India’s \"deepest values\". Annalena Baerbock spokesperson for Germanys' Foreign Ministry stated that Berlin had \"acknowledged\" the verdict and was monitoring the subsequent steps, including the possibility of an appeal and whether the \"suspension of his mandate\" was deemed justified. US Senator Chris Van Hollen made a separate comment, stating that the news of the disqualification was \"alarming\".\n",
            "\n",
            "In the 2004 general election, Gandhi contested from Amethi and won, securing 390,179 votes with a vote share of 66.18 per cent. He contested again in the 2009 general election from Amethi, winning with 464,195 votes and a vote share of 71.78 per cent. In the 2014, 2014 general election, he retained his seat in Amethi, winning with 408,651 votes and a vote share of 46.71 per cent. However, in the 2019, 2019 general election, Gandhi lost from Amethi, securing 413,394 votes with a vote share of 43.86 per cent. Nonetheless, he contested and won from Wayanad in the same election, garnering 706,367 votes with a vote share of 64.67 per cent.\n",
            "\n",
            "In 2004, the Gandhi was elected to the 14th Lok Sabha and served as a member of the Standing Committee on Home Affairs from 2004 to 2006, as well as a member of the Standing Committee on Human Resource Development from 2006 to 2009. In 2009, they were re-elected to the 15th Lok Sabha for a second term and served as a member of the Standing Committee on Human Resource Development, along with being a member of the Consultative Committee on Rural Development.\n",
            "\n",
            "In 2014, Gandhi was elected to the 16th Lok Sabha for a third term and served as a member of the Standing Committee on External Affairs, as well as a member of the Consultative Committee on Ministry of Finance and Corporate Affairs. In 2019, he was elected to the 17th Lok Sabha for a fourth term and served as a member of the Standing Committee on Defence, as well as a member of the Consultative Committee for the Ministry of External Affairs.\n",
            "\n",
            "Between 2008 and 2013, Gandhi assumed the role of General Secretary within the Indian National Congress (INC). Since 2007, Gandhi has been the chairperson of both the Indian Youth Congress and the National Students' Union of India (NSUI), positions he established and currently holds. His tenure as Vice President of the INC, established in 2013, lasted until 2016, after which the position was abolished. Subsequently, from 2017 to 2019, Gandhi served as the President of the INC, succeeding Sonia Gandhi.\n",
            "\n",
            "\n",
            "In December 2010, during the United States diplomatic cables leak, WikiLeaks leaked a cable dated 3 August 2009 after Prime Minister Manmohan Singh had hosted a lunch on 20 July 2009 for Gandhi, then the General Secretary of the AICC. One of the guests who was invited for the lunch was the United States Ambassador to India, Timothy J. Roemer. In a \"candid conversation\" with Roemer, he said that he believes Hindu extremists pose a greater threat to his country than Muslim militants. Gandhi referred specifically to more-polarising figures in the Bharatiya Janata Party (BJP). Also responding to the ambassador's query about the activities in the region by the Islamist militant organisation Lashkar-e-Taiba (LeT), Gandhi said there was evidence of some support for the group among certain elements in India's indigenous Muslim population. In a response to this, the BJP heavily criticised Gandhi for his statements. BJP spokesperson Ravi Shankar Prasad slammed Gandhi, saying that his language was a bigger threat to India, dividing the people of the country on communal grounds. Speaking to reporters, Prasad said, \"In one stroke Mr. Rahul Gandhi has sought to give a big leverage to the propaganda to all the extremist and terrorist groups in Pakistan and also some segments of the Pakistani establishment. It would also seriously compromise India's fight against terror as also our strategic security.\" Adding that terrorism has no religion, he claimed that Rahul Gandhi had shown his lack of understanding India. Gandhi has also been critical of groups like the RSS and has compared them to terrorist organisations like SIMI.\n",
            "After the 2013 Muzaffarnagar riots at a Madhya Pradesh election rally in Indore, Gandhi claimed that a police officer told him that Pakistan's military intelligence service, ISI, was trying to recruit disgruntled riot-affected youngsters. However, the district administration, the Uttar Pradesh state government, the Union Home Ministry, the Research and Analysis Wing (RAW) and the Intelligence Bureau (IB) denied any such development. This remark drew heavy criticism from various political outfits such as BJP, SP, CPI and JD(U). Congress's Jairam Ramesh said Gandhi needed to apologise to the Muslim community for this remark. In reply to the ECI's show-cause notice to explain why action should not be initiated against him for violating the Model Code of Conduct, Gandhi said that he didn't intend to exploit communal sentiments but was referring to divisive politics.\n",
            "\n",
            "The BJP also asked the government to explain why Gandhi, who holds no post in the government, was being briefed by intelligence officers on important security issues. On 13 November 2013, the Election Commission of India found Gandhi's explanation to be insufficient, conveyed its displeasure, and advised him to be more circumspect in his public utterances during election campaigns.\n",
            "\n",
            "\n",
            "\n",
            "On 19 April 2015 Gandhi addressed the farmer and worker's rally, named as Kisan Khet Mazdoor Rally in Ramlila Maidan. Here he made \"references to his agitations in Niyamgiri in Orissa and Bhatta-Parsaul in Greater Noida in Uttar Pradesh\". The rally was attended by 100,000 people. In the speech he gave, he criticised the Indian prime minister Narendra Modi about his comment in Toronto where he said that he was \"cleaning the mess created by previous governments\". He also said, \"Do you know how Modi won the election?... He borrowed thousands of crores from industrialists for his several campaigns and advertisements. How will he pay them back? He will pay them back with your land. He will give your land to his industrialist friends.\"\n",
            "\n",
            "He razzed the government as a \"suit-boot government\", a reference to Modi's monogrammed suit which he wore in the Republic Day meeting with Barack Obama. Moreover, he used the \"acche din government\" jibe (which was Modi's election campaign slogan meaning \"good days government\") and mentioned that it had \"failed the country\".\n",
            "\n",
            "A land bill was introduced by the BJP government in the parliament in May which was criticised by the opposition parties. Accusing the government of \"murdering\" UPA's land bill, Gandhi promised to prevent the bill from being passed, if not in the parliament then would \"stop you [ BJP government] on streets\". He further accused the government of diluting the bill and called it \"anti-farmer\". Gandhi also drew a parallel between \"daylight robbery\" and the bill. On 26 May, the day of the Modi government's first anniversary, Gandhi commented at a rally in Kozhikode \"Unfortunately, birthday celebrations is only for a few powerful friends of the government. Kisan, farmers and mazdoor have nothing to celebrate.\" \n",
            "\n",
            "\"India will be truly successful only when women occupy equal space in our society. They must take their rightful place in politics and shape India's destiny.\"\n",
            "\n",
            "Gandhi's remarks on Women empowerment.\n",
            "Gandhi has spoken publicly about the importance of women's empowerment and gender equality in India. While inaugurating 'Utsaah', a Kerala Mahila Congress convention in Kochi, Gandhi stated that the Congress party would actively promote women within its organizational structure and set a target to have 50 per cent of women as chief ministers within the next 10 years. Gandhi initiated the Self-Help Groups amongst the women in the villages of Amethi. The primary focus of this scheme was to bring women together and empower them with information and decision making capabilities. He has called for increased representation of women in politics and for the eradication of gender-based violence. Under the second Manmohan Singh ministry, a Women's Reservation Bill to require that a third of Lok Sabha and state legislative assembly seats be reserved for women was introduced in the Rajya Sabha.  \n",
            "Gandhi backed the bill, stating, \"Women do not need any protection. If you give them their rights, they can protect themselves\". This bill passed the Rajya Sabha on 9 March 2010, but it never received a vote in the Lok Sabha and eventually lapsed due to its pending status. In 2019, while addressing students in Chennai, Gandhi again called for 33 per cent reservation of all parliamentary Lok Sabha and state legislative assembly seats for women, as well as government jobs.\n",
            "\n",
            "On 6 September 2018, the Supreme Court of India revoked Section 377 of the Indian Penal Code, an act which criminalised homosexual sex between adults. Gandhi had backed the repeal of Section 377 of the Indian Penal Code and the decriminalisation of homosexuality, stating that he believed that issues related to personal freedom should be left to the individual. He opined that it's essential to uphold the constitutional guarantee of life and liberty to all citizens of India.\n",
            "\n",
            "Gandhi has been very concerned about the environmental degradation of the world and has said that unless they are not made a political issue, they won't get the attention they deserve.\n",
            "\n",
            "Gandhi criticised Environment Impact Assessment (EIA) 2020 draft by calling it \"dangerous\" and said that its long term consequences will be harmful. Calling it a disaster, he said that it will silence the communities who will get directly impacted by environmental degradation.\n",
            "\n",
            "Gandhi while addressing All India Congress Committee (AICC) in Jaipur, called for an end to red tape and outdated laws that slow job creation.\n",
            "Gandhi views the economic policies of Modi Government as fundamentally to benefit the 2-3 billionaires and has described them as crony capitalists. Calling the \"crony capitalists\" as best friends of Modi, he has been critical of the privatisation of government assets. He is of the view that RSS and crony capitalists are colluding to control India. He has been specifically harsh on Indian Billionaire Gautam Adani and said that Modi Government has been very favourable towards Adani. He sees the rise of Adani as a direct consequence of crony capitalism. He said that he is not anti-business and supports fairness. Disagreeing with privatisation of PSUs, he said that Congress will not allow the privatisation if it comes to power. Citing the report on inequality by Oxfam, he said that rising economic inequality is the result of Modi Government's economic policies.\n",
            "\n",
            "Gandhi has been very critical of the Modi government's demonetisation of ₹500 and ₹1,000 banknotes of the Mahatma Gandhi Series. He has called it a \"tragedy\" and a \"disaster\" that has negatively impacted the Indian economy and the lives of ordinary citizens. Gandhi has also accused the government of carrying out the policy without adequate planning and causing immense hardship to the poor and vulnerable sections of society. He said that demonetisation is a fundamental failure of policy design and has alleged that it was a deliberate move by \"PayPM\" to help 2-3 billionaires to monopolise the economy. Terming demonetisation as the country's “biggest scam”,\n",
            "\n",
            "During his public speeches and political rallies, Gandhi has consistently criticised the demonetisation move, claiming that it failed to achieve its intended objectives of combating black money and curbing corruption. He has also argued that the policy was implemented without proper consultation with experts or the opposition parties. Gandhi further asserted that, demonetisation caused significant disruption to farmers, and rendered millions jobless in small and medium-sized businesses, and workers in the informal sector.\n"
          ]
        }
      ]
    },
    {
      "cell_type": "code",
      "source": [
        "with open(\"wikipedia.txt\", \"w\", encoding= \"utf-8\") as f:\n",
        "  f.write(corpus)"
      ],
      "metadata": {
        "id": "SX5RNKf5bak3"
      },
      "execution_count": 138,
      "outputs": []
    }
  ]
}